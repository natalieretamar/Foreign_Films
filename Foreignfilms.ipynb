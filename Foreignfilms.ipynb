{
 "cells": [
  {
   "cell_type": "code",
   "execution_count": 262,
   "metadata": {
    "collapsed": false
   },
   "outputs": [],
   "source": [
    "import requests\n",
    "from bs4 import BeautifulSoup\n",
    "from pprint import pprint\n",
    "import re\n",
    "import pandas as pd\n",
    "from get_file_from_url import get_file\n",
    "import seaborn"
   ]
  },
  {
   "cell_type": "markdown",
   "metadata": {},
   "source": [
    "## Scrape movie titles & Country names"
   ]
  },
  {
   "cell_type": "code",
   "execution_count": 2,
   "metadata": {
    "collapsed": false
   },
   "outputs": [],
   "source": [
    "#Takes an int arg 'n' = number of pages to scroll through for Foreign movie titles\n",
    "#returns string list of ovie titles\n",
    "def get_movie_titles(n):\n",
    "    countries = []\n",
    "    titles=[]\n",
    "    for i in range(0,n):\n",
    "        s1= 'http://www.boxofficemojo.com/genres/chart/?view=main&sort=gross&order=DESC&pagenum='\n",
    "        s2= '&id=foreign.htm'\n",
    "        url = '%s%d%s'%(s1, i+1, s2)\n",
    "        response = get_file(url)\n",
    "        page = response.text\n",
    "        soup = BeautifulSoup(page)\n",
    "\n",
    "        #look through all links 'a'\n",
    "        for item in soup.find_all('a'):\n",
    "            children = []\n",
    "            #if the movie folder is in item row AND not the aprophet move(ascii error)\n",
    "            if \"/movies/?id\" in str(item):           \n",
    "            #this next loop gets rid of outer tag and goes into bold tag\n",
    "                for child in item.descendants:\n",
    "                    #put child in children temp list\n",
    "                    children.append(child)\n",
    "                    #into the bold tag\n",
    "                for child in children:\n",
    "                    if \"<b>\" not in child.string:\n",
    "                        country = None\n",
    "                        s = str(child.parent.parent)\n",
    "                        if type(s) != None:\n",
    "                            br_list = s.split('<br/>')\n",
    "                            if len(br_list)==2:\n",
    "                                country = br_list[1].split(')')[0][1:]\n",
    "                        if child.string not in titles:\n",
    "                            countries.append(country)\n",
    "                            titles.append(child.string)\n",
    "\n",
    "\n",
    "        #remove upcoming release titles\n",
    "        del titles[-7:]\n",
    "    #remove  header movie\n",
    "    titles.pop(0)\n",
    "    return countries, titles   "
   ]
  },
  {
   "cell_type": "code",
   "execution_count": 3,
   "metadata": {
    "collapsed": false
   },
   "outputs": [],
   "source": [
    "countries, m_titles=get_movie_titles(18)"
   ]
  },
  {
   "cell_type": "markdown",
   "metadata": {},
   "source": [
    "## Clean up title names"
   ]
  },
  {
   "cell_type": "code",
   "execution_count": 5,
   "metadata": {
    "collapsed": false
   },
   "outputs": [],
   "source": [
    "#takes a movie list as an argument\n",
    "#Removes all chars after ':' in a string\n",
    "#removes all non letter characters &  word'the' from title\n",
    "#returns a list of clean movie titles\n",
    "def clean_titles(m_list):\n",
    "    movies= []\n",
    "    validChars='abcdefghijklmnopqrstuvwxyz:'\n",
    "    newString = ''\n",
    "    sub_string=''\n",
    "    \n",
    "    for m in m_list:\n",
    "        #split string\n",
    "        if ':' in m:\n",
    "            for i in range(0, len(m)):\n",
    "                if m[i] == ':':\n",
    "                    sub_string = m[:i]\n",
    "            m = sub_string\n",
    "        temp = m.lower()\n",
    "        #remove non letter characters\n",
    "        for char in temp:\n",
    "            if char in validChars:\n",
    "                newString += char\n",
    "        #get this to remove only from the front of the title!\n",
    "        #remove 'the' from title\n",
    "        movies.append(newString.replace('the', ''))\n",
    "        newString = ''       \n",
    "     \n",
    "    return movies"
   ]
  },
  {
   "cell_type": "code",
   "execution_count": 6,
   "metadata": {
    "collapsed": false
   },
   "outputs": [
    {
     "data": {
      "text/plain": [
       "[u'crouchingtigerhiddendragon',\n",
       " u'lifeisbeautiful',\n",
       " u'hero',\n",
       " u'instructionsnotincluded',\n",
       " u'panslabyrinth']"
      ]
     },
     "execution_count": 6,
     "metadata": {},
     "output_type": "execute_result"
    }
   ],
   "source": [
    "c_titles=clean_titles(m_titles)\n",
    "c_titles[:5]"
   ]
  },
  {
   "cell_type": "markdown",
   "metadata": {},
   "source": [
    "## Get feature values & clean them"
   ]
  },
  {
   "cell_type": "code",
   "execution_count": 7,
   "metadata": {
    "collapsed": false
   },
   "outputs": [],
   "source": [
    "#takes a soup obj of html page & the field name\n",
    "#returns value of field name\n",
    "def get_values(soup, field_name):\n",
    "    obj = soup.find(text=re.compile(field_name))\n",
    "    if not obj: \n",
    "        return None\n",
    "    next_sibling = obj.findNextSibling()\n",
    "    if next_sibling:\n",
    "        return next_sibling.text \n",
    "    else:\n",
    "        return None\n",
    "\n",
    "#takes string: domestic total gross & removes all non number characters\n",
    "def clean_domestic_total_gross(dtg):\n",
    "    dom = str(dtg).replace('$', '').replace(',', '')\n",
    "    return (dom)\n",
    "\n",
    "def clean_currency(c):\n",
    "    curr = str(c).replace('$','').replace(',','').replace('million', '000000').replace(\"N/A\", 0)\n",
    "    #print c\n",
    "    currency = int(curr)    \n",
    "    return currency\n",
    "\n",
    "def clean_budget(b):\n",
    "    op_budget = str(b).replace('$', '').replace(' ','').replace('million', '000000').replace('N/A','0')\n",
    "    operating_budget = (op_budget)\n",
    "    return operating_budget\n",
    "\n",
    "\n",
    "#takes a string for budget and removes all non number characters\n",
    "#def clean_budget(b):\n",
    "    #operating_budget = str(b).replace('$', '').replace(' ','').replace('million', '000000').replace('N/A','0')\n",
    "\n",
    "\n"
   ]
  },
  {
   "cell_type": "code",
   "execution_count": 8,
   "metadata": {
    "collapsed": false
   },
   "outputs": [
    {
     "data": {
      "text/plain": [
       "u'crouchingtigerhiddendragon'"
      ]
     },
     "execution_count": 8,
     "metadata": {},
     "output_type": "execute_result"
    }
   ],
   "source": [
    "c_titles[0]"
   ]
  },
  {
   "cell_type": "markdown",
   "metadata": {},
   "source": [
    "## Function that gets all features for each movie"
   ]
  },
  {
   "cell_type": "code",
   "execution_count": 9,
   "metadata": {
    "collapsed": false
   },
   "outputs": [],
   "source": [
    "#take clean list of movies (c_titles) and go to each page\n",
    "\n",
    "def get_movie_info(movie_list,countries):\n",
    "    movie_info = []\n",
    "    s1='http://www.boxofficemojo.com/movies/?id='\n",
    "    s2= '.htm'\n",
    "        \n",
    "    for i in range(0, len(movie_list)):\n",
    "        \n",
    "        title= movie_list[i]\n",
    "        url = '%s%s%s'%(s1,title, s2)\n",
    "        response = get_file(url)\n",
    "        if response is not None:\n",
    "            if response.status_code==200:\n",
    "            \n",
    "                page = response.text\n",
    "                soup = BeautifulSoup(page)\n",
    "\n",
    "                #domestic Total Gross\n",
    "                dtg= get_values(soup, \"Domestic Total Gross: \")\n",
    "                #print dtg\n",
    "                domestic_gross = clean_domestic_total_gross(dtg)\n",
    "                \n",
    "                #print domestic_gross\n",
    "\n",
    "                #ratings\n",
    "                rtg = get_values(soup, 'MPAA Rating: ')\n",
    "                ratings = str(rtg)\n",
    "                #print ratings\n",
    "\n",
    "                #genre \n",
    "                genre= get_values(soup, \"Genre: \")\n",
    "                #print genre\n",
    "\n",
    "                #runtime\n",
    "                r_time = get_values(soup, \"Runtime: \")\n",
    "                runtime= str(r_time)\n",
    "                #print runtime\n",
    "\n",
    "                #releasedate\n",
    "                r_date = get_values(soup, \"Release Date: \")\n",
    "                release_date = str(r_date)\n",
    "                #print release_date\n",
    "\n",
    "                #operating budget\n",
    "                budget = get_values(soup, 'Production Budget: ')\n",
    "                operating_budget = clean_budget(budget)\n",
    "                #print operating_budget\n",
    "\n",
    "                #countries\n",
    "                country= countries[i]\n",
    "\n",
    "                #print movie_info\n",
    "                #return movie_info\n",
    "                movie_info.append((title,country, domestic_gross, ratings, genre, runtime, release_date,operating_budget))\n",
    "\n",
    "                #global count \n",
    "                #count +=1\n",
    "            else:\n",
    "                print url\n",
    "        else:\n",
    "            print url\n",
    "    return movie_info\n",
    "            \n",
    "#print my_list"
   ]
  },
  {
   "cell_type": "code",
   "execution_count": 10,
   "metadata": {
    "collapsed": false,
    "scrolled": true
   },
   "outputs": [
    {
     "name": "stdout",
     "output_type": "stream",
     "text": [
      "Error: request.get(url) Status NOT 200\n",
      "http://www.boxofficemojo.com/movies/?id=likefarlikeson.htm\n",
      "Error: request.get(url) Status NOT 200\n",
      "http://www.boxofficemojo.com/movies/?id=marriageitalianstylererelease.htm\n"
     ]
    }
   ],
   "source": [
    "my_list=get_movie_info(c_titles,countries)"
   ]
  },
  {
   "cell_type": "code",
   "execution_count": 16,
   "metadata": {
    "collapsed": false
   },
   "outputs": [
    {
     "data": {
      "text/plain": [
       "(u'crouchingtigerhiddendragon',\n",
       " None,\n",
       " '128078872',\n",
       " 'PG-13',\n",
       " u'Foreign / Action',\n",
       " '2 hrs. 0 min.',\n",
       " 'December 8, 2000',\n",
       " '17000000')"
      ]
     },
     "execution_count": 16,
     "metadata": {},
     "output_type": "execute_result"
    }
   ],
   "source": [
    "my_list[0]\n",
    "\n",
    "title = []\n",
    "gross_dom_prod = []\n",
    "mpaa_rating = []\n",
    "genre = []\n",
    "runtime = []\n",
    "release date = []\n",
    "budget = []"
   ]
  },
  {
   "cell_type": "code",
   "execution_count": 48,
   "metadata": {
    "collapsed": false
   },
   "outputs": [
    {
     "data": {
      "text/plain": [
       "unicode"
      ]
     },
     "execution_count": 48,
     "metadata": {},
     "output_type": "execute_result"
    }
   ],
   "source": [
    "type(my_list[0][4])"
   ]
  },
  {
   "cell_type": "code",
   "execution_count": 13,
   "metadata": {
    "collapsed": false
   },
   "outputs": [
    {
     "data": {
      "text/plain": [
       "tuple"
      ]
     },
     "execution_count": 13,
     "metadata": {},
     "output_type": "execute_result"
    }
   ],
   "source": [
    "type(my_list[-1])"
   ]
  },
  {
   "cell_type": "code",
   "execution_count": 16,
   "metadata": {
    "collapsed": true
   },
   "outputs": [],
   "source": [
    "\n",
    "import pickle\n",
    "pickle.dump(my_list,open('./data.p','wb'))\n",
    "my_data = pickle.load(open('./data.p', 'rb'))\n",
    "\n"
   ]
  },
  {
   "cell_type": "markdown",
   "metadata": {},
   "source": [
    "# Load in dataset"
   ]
  },
  {
   "cell_type": "code",
   "execution_count": 18,
   "metadata": {
    "collapsed": true
   },
   "outputs": [],
   "source": [
    "import pickle \n",
    "my_data = pickle.load(open('./data.p', 'rb'))"
   ]
  },
  {
   "cell_type": "markdown",
   "metadata": {},
   "source": [
    "# Data loaded"
   ]
  },
  {
   "cell_type": "code",
   "execution_count": 14,
   "metadata": {
    "collapsed": false
   },
   "outputs": [
    {
     "name": "stdout",
     "output_type": "stream",
     "text": [
      "crouchingtigerhiddendragon\n"
     ]
    }
   ],
   "source": [
    "print my_list[0][0]\n",
    "#print m_titles[0]"
   ]
  },
  {
   "cell_type": "code",
   "execution_count": 18,
   "metadata": {
    "collapsed": false
   },
   "outputs": [
    {
     "data": {
      "text/plain": [
       "[(u'crouchingtigerhiddendragon',\n",
       "  None,\n",
       "  '128078872',\n",
       "  'PG-13',\n",
       "  u'Foreign / Action',\n",
       "  '2 hrs. 0 min.',\n",
       "  'December 8, 2000',\n",
       "  '17000000'),\n",
       " (u'lifeisbeautiful',\n",
       "  'Taiwan',\n",
       "  '57247384',\n",
       "  'PG-13',\n",
       "  u'Foreign',\n",
       "  '1 hrs. 56 min.',\n",
       "  'October 23, 1998',\n",
       "  '0'),\n",
       " (u'hero',\n",
       "  'Italy',\n",
       "  '19507345',\n",
       "  'PG-13',\n",
       "  u'Comedy',\n",
       "  '1 hrs. 58 min.',\n",
       "  'October 2, 1992',\n",
       "  '0'),\n",
       " (u'instructionsnotincluded',\n",
       "  'China',\n",
       "  '44467206',\n",
       "  'PG-13',\n",
       "  u'Foreign',\n",
       "  '1 hrs. 55 min.',\n",
       "  'August 30, 2013',\n",
       "  '0'),\n",
       " (u'panslabyrinth',\n",
       "  None,\n",
       "  '37634615',\n",
       "  'R',\n",
       "  u'Foreign / Horror',\n",
       "  '1 hrs. 52 min.',\n",
       "  'December 29, 2006',\n",
       "  '19000000')]"
      ]
     },
     "execution_count": 18,
     "metadata": {},
     "output_type": "execute_result"
    }
   ],
   "source": [
    "my_data[:5]"
   ]
  },
  {
   "cell_type": "code",
   "execution_count": 19,
   "metadata": {
    "collapsed": false,
    "scrolled": true
   },
   "outputs": [
    {
     "data": {
      "text/html": [
       "<div>\n",
       "<table border=\"1\" class=\"dataframe\">\n",
       "  <thead>\n",
       "    <tr style=\"text-align: right;\">\n",
       "      <th></th>\n",
       "      <th>0</th>\n",
       "      <th>1</th>\n",
       "      <th>2</th>\n",
       "      <th>3</th>\n",
       "      <th>4</th>\n",
       "      <th>5</th>\n",
       "      <th>6</th>\n",
       "      <th>7</th>\n",
       "    </tr>\n",
       "  </thead>\n",
       "  <tbody>\n",
       "    <tr>\n",
       "      <th>0</th>\n",
       "      <td>crouchingtigerhiddendragon</td>\n",
       "      <td>None</td>\n",
       "      <td>128078872</td>\n",
       "      <td>PG-13</td>\n",
       "      <td>Foreign / Action</td>\n",
       "      <td>2 hrs. 0 min.</td>\n",
       "      <td>December 8, 2000</td>\n",
       "      <td>17000000</td>\n",
       "    </tr>\n",
       "    <tr>\n",
       "      <th>1</th>\n",
       "      <td>lifeisbeautiful</td>\n",
       "      <td>Taiwan</td>\n",
       "      <td>57247384</td>\n",
       "      <td>PG-13</td>\n",
       "      <td>Foreign</td>\n",
       "      <td>1 hrs. 56 min.</td>\n",
       "      <td>October 23, 1998</td>\n",
       "      <td>0</td>\n",
       "    </tr>\n",
       "    <tr>\n",
       "      <th>2</th>\n",
       "      <td>hero</td>\n",
       "      <td>Italy</td>\n",
       "      <td>19507345</td>\n",
       "      <td>PG-13</td>\n",
       "      <td>Comedy</td>\n",
       "      <td>1 hrs. 58 min.</td>\n",
       "      <td>October 2, 1992</td>\n",
       "      <td>0</td>\n",
       "    </tr>\n",
       "  </tbody>\n",
       "</table>\n",
       "</div>"
      ],
      "text/plain": [
       "                            0       1          2      3                 4  \\\n",
       "0  crouchingtigerhiddendragon    None  128078872  PG-13  Foreign / Action   \n",
       "1             lifeisbeautiful  Taiwan   57247384  PG-13           Foreign   \n",
       "2                        hero   Italy   19507345  PG-13            Comedy   \n",
       "\n",
       "                5                 6         7  \n",
       "0   2 hrs. 0 min.  December 8, 2000  17000000  \n",
       "1  1 hrs. 56 min.  October 23, 1998         0  \n",
       "2  1 hrs. 58 min.   October 2, 1992         0  "
      ]
     },
     "execution_count": 19,
     "metadata": {},
     "output_type": "execute_result"
    }
   ],
   "source": [
    "df=pd.DataFrame(my_data)\n",
    "df[:3]"
   ]
  },
  {
   "cell_type": "code",
   "execution_count": 20,
   "metadata": {
    "collapsed": false
   },
   "outputs": [
    {
     "data": {
      "text/html": [
       "<div>\n",
       "<table border=\"1\" class=\"dataframe\">\n",
       "  <thead>\n",
       "    <tr style=\"text-align: right;\">\n",
       "      <th></th>\n",
       "      <th>0</th>\n",
       "      <th>1</th>\n",
       "      <th>2</th>\n",
       "      <th>3</th>\n",
       "      <th>4</th>\n",
       "      <th>5</th>\n",
       "      <th>6</th>\n",
       "      <th>7</th>\n",
       "    </tr>\n",
       "  </thead>\n",
       "  <tbody>\n",
       "    <tr>\n",
       "      <th>0</th>\n",
       "      <td>crouchingtigerhiddendragon</td>\n",
       "      <td>None</td>\n",
       "      <td>128078872</td>\n",
       "      <td>PG-13</td>\n",
       "      <td>Foreign / Action</td>\n",
       "      <td>2 hrs. 0 min.</td>\n",
       "      <td>December 8, 2000</td>\n",
       "      <td>17000000</td>\n",
       "    </tr>\n",
       "    <tr>\n",
       "      <th>1</th>\n",
       "      <td>lifeisbeautiful</td>\n",
       "      <td>Taiwan</td>\n",
       "      <td>57247384</td>\n",
       "      <td>PG-13</td>\n",
       "      <td>Foreign</td>\n",
       "      <td>1 hrs. 56 min.</td>\n",
       "      <td>October 23, 1998</td>\n",
       "      <td>0</td>\n",
       "    </tr>\n",
       "    <tr>\n",
       "      <th>2</th>\n",
       "      <td>hero</td>\n",
       "      <td>Italy</td>\n",
       "      <td>19507345</td>\n",
       "      <td>PG-13</td>\n",
       "      <td>Comedy</td>\n",
       "      <td>1 hrs. 58 min.</td>\n",
       "      <td>October 2, 1992</td>\n",
       "      <td>0</td>\n",
       "    </tr>\n",
       "    <tr>\n",
       "      <th>3</th>\n",
       "      <td>instructionsnotincluded</td>\n",
       "      <td>China</td>\n",
       "      <td>44467206</td>\n",
       "      <td>PG-13</td>\n",
       "      <td>Foreign</td>\n",
       "      <td>1 hrs. 55 min.</td>\n",
       "      <td>August 30, 2013</td>\n",
       "      <td>0</td>\n",
       "    </tr>\n",
       "    <tr>\n",
       "      <th>4</th>\n",
       "      <td>panslabyrinth</td>\n",
       "      <td>None</td>\n",
       "      <td>37634615</td>\n",
       "      <td>R</td>\n",
       "      <td>Foreign / Horror</td>\n",
       "      <td>1 hrs. 52 min.</td>\n",
       "      <td>December 29, 2006</td>\n",
       "      <td>19000000</td>\n",
       "    </tr>\n",
       "  </tbody>\n",
       "</table>\n",
       "</div>"
      ],
      "text/plain": [
       "                            0       1          2      3                 4  \\\n",
       "0  crouchingtigerhiddendragon    None  128078872  PG-13  Foreign / Action   \n",
       "1             lifeisbeautiful  Taiwan   57247384  PG-13           Foreign   \n",
       "2                        hero   Italy   19507345  PG-13            Comedy   \n",
       "3     instructionsnotincluded   China   44467206  PG-13           Foreign   \n",
       "4               panslabyrinth    None   37634615      R  Foreign / Horror   \n",
       "\n",
       "                5                  6         7  \n",
       "0   2 hrs. 0 min.   December 8, 2000  17000000  \n",
       "1  1 hrs. 56 min.   October 23, 1998         0  \n",
       "2  1 hrs. 58 min.    October 2, 1992         0  \n",
       "3  1 hrs. 55 min.    August 30, 2013         0  \n",
       "4  1 hrs. 52 min.  December 29, 2006  19000000  "
      ]
     },
     "execution_count": 20,
     "metadata": {},
     "output_type": "execute_result"
    }
   ],
   "source": [
    "df.head()"
   ]
  },
  {
   "cell_type": "code",
   "execution_count": 49,
   "metadata": {
    "collapsed": true
   },
   "outputs": [],
   "source": [
    "copy_df = pd.read_csv('foreign.csv')"
   ]
  },
  {
   "cell_type": "code",
   "execution_count": 50,
   "metadata": {
    "collapsed": false
   },
   "outputs": [
    {
     "data": {
      "text/html": [
       "<div>\n",
       "<table border=\"1\" class=\"dataframe\">\n",
       "  <thead>\n",
       "    <tr style=\"text-align: right;\">\n",
       "      <th></th>\n",
       "      <th>0</th>\n",
       "      <th>crouchingtigerhiddendragon</th>\n",
       "      <th>lifeisbeautiful</th>\n",
       "      <th>hero</th>\n",
       "      <th>instructionsnotincluded</th>\n",
       "      <th>panslabyrinth</th>\n",
       "      <th>amelie</th>\n",
       "      <th>jetlisfearless</th>\n",
       "      <th>ilpostino</th>\n",
       "      <th>likewaterforchocolate</th>\n",
       "      <th>...</th>\n",
       "      <th>whitepalms</th>\n",
       "      <th>cash</th>\n",
       "      <th>kidnap</th>\n",
       "      <th>moscowbelgium</th>\n",
       "      <th>edenlog</th>\n",
       "      <th>aashayeinwishes</th>\n",
       "      <th>chakjawanagoforit</th>\n",
       "      <th>itsawonderfulafterlife</th>\n",
       "      <th>skyturnselcielogira</th>\n",
       "      <th>hauntedd</th>\n",
       "    </tr>\n",
       "  </thead>\n",
       "  <tbody>\n",
       "    <tr>\n",
       "      <th>0</th>\n",
       "      <td>1</td>\n",
       "      <td>NaN</td>\n",
       "      <td>Taiwan</td>\n",
       "      <td>Italy</td>\n",
       "      <td>China</td>\n",
       "      <td>NaN</td>\n",
       "      <td>Mexico</td>\n",
       "      <td>France</td>\n",
       "      <td>China</td>\n",
       "      <td>Italy</td>\n",
       "      <td>...</td>\n",
       "      <td>NaN</td>\n",
       "      <td>NaN</td>\n",
       "      <td>Hong Kong</td>\n",
       "      <td>NaN</td>\n",
       "      <td>Germany</td>\n",
       "      <td>Thailand</td>\n",
       "      <td>Italy</td>\n",
       "      <td>NaN</td>\n",
       "      <td>China</td>\n",
       "      <td>Denmark</td>\n",
       "    </tr>\n",
       "    <tr>\n",
       "      <th>1</th>\n",
       "      <td>2</td>\n",
       "      <td>128078872</td>\n",
       "      <td>57247384</td>\n",
       "      <td>19507345</td>\n",
       "      <td>44467206</td>\n",
       "      <td>37634615</td>\n",
       "      <td>33225499</td>\n",
       "      <td>None</td>\n",
       "      <td>21848932</td>\n",
       "      <td>21665468</td>\n",
       "      <td>...</td>\n",
       "      <td>None</td>\n",
       "      <td>None</td>\n",
       "      <td>None</td>\n",
       "      <td>None</td>\n",
       "      <td>None</td>\n",
       "      <td>None</td>\n",
       "      <td>None</td>\n",
       "      <td>None</td>\n",
       "      <td>None</td>\n",
       "      <td>None</td>\n",
       "    </tr>\n",
       "    <tr>\n",
       "      <th>2</th>\n",
       "      <td>3</td>\n",
       "      <td>PG-13</td>\n",
       "      <td>PG-13</td>\n",
       "      <td>PG-13</td>\n",
       "      <td>PG-13</td>\n",
       "      <td>R</td>\n",
       "      <td>R</td>\n",
       "      <td>None</td>\n",
       "      <td>PG</td>\n",
       "      <td>R</td>\n",
       "      <td>...</td>\n",
       "      <td>Unrated</td>\n",
       "      <td>Unrated</td>\n",
       "      <td>None</td>\n",
       "      <td>Unrated</td>\n",
       "      <td>R</td>\n",
       "      <td>None</td>\n",
       "      <td>None</td>\n",
       "      <td>None</td>\n",
       "      <td>None</td>\n",
       "      <td>None</td>\n",
       "    </tr>\n",
       "    <tr>\n",
       "      <th>3</th>\n",
       "      <td>4</td>\n",
       "      <td>Foreign / Action</td>\n",
       "      <td>Foreign</td>\n",
       "      <td>Comedy</td>\n",
       "      <td>Foreign</td>\n",
       "      <td>Foreign / Horror</td>\n",
       "      <td>Foreign</td>\n",
       "      <td>NaN</td>\n",
       "      <td>Foreign</td>\n",
       "      <td>Foreign</td>\n",
       "      <td>...</td>\n",
       "      <td>Foreign</td>\n",
       "      <td>Foreign</td>\n",
       "      <td>NaN</td>\n",
       "      <td>Foreign</td>\n",
       "      <td>Foreign</td>\n",
       "      <td>NaN</td>\n",
       "      <td>NaN</td>\n",
       "      <td>NaN</td>\n",
       "      <td>NaN</td>\n",
       "      <td>NaN</td>\n",
       "    </tr>\n",
       "    <tr>\n",
       "      <th>4</th>\n",
       "      <td>5</td>\n",
       "      <td>2 hrs. 0 min.</td>\n",
       "      <td>1 hrs. 56 min.</td>\n",
       "      <td>1 hrs. 58 min.</td>\n",
       "      <td>1 hrs. 55 min.</td>\n",
       "      <td>1 hrs. 52 min.</td>\n",
       "      <td>2 hrs. 2 min.</td>\n",
       "      <td>None</td>\n",
       "      <td>1 hrs. 48 min.</td>\n",
       "      <td>1 hrs. 45 min.</td>\n",
       "      <td>...</td>\n",
       "      <td>1 hrs. 37 min.</td>\n",
       "      <td>2 hrs. 25 min.</td>\n",
       "      <td>None</td>\n",
       "      <td>1 hrs. 42 min.</td>\n",
       "      <td>NaN</td>\n",
       "      <td>None</td>\n",
       "      <td>None</td>\n",
       "      <td>None</td>\n",
       "      <td>None</td>\n",
       "      <td>None</td>\n",
       "    </tr>\n",
       "  </tbody>\n",
       "</table>\n",
       "<p>5 rows × 1798 columns</p>\n",
       "</div>"
      ],
      "text/plain": [
       "   0 crouchingtigerhiddendragon lifeisbeautiful            hero  \\\n",
       "0  1                        NaN          Taiwan           Italy   \n",
       "1  2                  128078872        57247384        19507345   \n",
       "2  3                      PG-13           PG-13           PG-13   \n",
       "3  4           Foreign / Action         Foreign          Comedy   \n",
       "4  5              2 hrs. 0 min.  1 hrs. 56 min.  1 hrs. 58 min.   \n",
       "\n",
       "  instructionsnotincluded     panslabyrinth         amelie jetlisfearless  \\\n",
       "0                   China               NaN         Mexico         France   \n",
       "1                44467206          37634615       33225499           None   \n",
       "2                   PG-13                 R              R           None   \n",
       "3                 Foreign  Foreign / Horror        Foreign            NaN   \n",
       "4          1 hrs. 55 min.    1 hrs. 52 min.  2 hrs. 2 min.           None   \n",
       "\n",
       "        ilpostino likewaterforchocolate   ...         whitepalms  \\\n",
       "0           China                 Italy   ...                NaN   \n",
       "1        21848932              21665468   ...               None   \n",
       "2              PG                     R   ...            Unrated   \n",
       "3         Foreign               Foreign   ...            Foreign   \n",
       "4  1 hrs. 48 min.        1 hrs. 45 min.   ...     1 hrs. 37 min.   \n",
       "\n",
       "             cash     kidnap   moscowbelgium  edenlog aashayeinwishes  \\\n",
       "0             NaN  Hong Kong             NaN  Germany        Thailand   \n",
       "1            None       None            None     None            None   \n",
       "2         Unrated       None         Unrated        R            None   \n",
       "3         Foreign        NaN         Foreign  Foreign             NaN   \n",
       "4  2 hrs. 25 min.       None  1 hrs. 42 min.      NaN            None   \n",
       "\n",
       "  chakjawanagoforit itsawonderfulafterlife skyturnselcielogira hauntedd  \n",
       "0             Italy                    NaN               China  Denmark  \n",
       "1              None                   None                None     None  \n",
       "2              None                   None                None     None  \n",
       "3               NaN                    NaN                 NaN      NaN  \n",
       "4              None                   None                None     None  \n",
       "\n",
       "[5 rows x 1798 columns]"
      ]
     },
     "execution_count": 50,
     "metadata": {},
     "output_type": "execute_result"
    }
   ],
   "source": [
    "copy_df.head()"
   ]
  },
  {
   "cell_type": "markdown",
   "metadata": {},
   "source": [
    "# Rename Columns"
   ]
  },
  {
   "cell_type": "code",
   "execution_count": 22,
   "metadata": {
    "collapsed": false
   },
   "outputs": [],
   "source": [
    "df.columns = ['Movie', 'Country', 'GDP', 'MPAA', 'Genre','Runtime','Release_date', 'Budget']"
   ]
  },
  {
   "cell_type": "code",
   "execution_count": 23,
   "metadata": {
    "collapsed": false
   },
   "outputs": [
    {
     "data": {
      "text/html": [
       "<div>\n",
       "<table border=\"1\" class=\"dataframe\">\n",
       "  <thead>\n",
       "    <tr style=\"text-align: right;\">\n",
       "      <th></th>\n",
       "      <th>Movie</th>\n",
       "      <th>Country</th>\n",
       "      <th>GDP</th>\n",
       "      <th>MPAA</th>\n",
       "      <th>Genre</th>\n",
       "      <th>Runtime</th>\n",
       "      <th>Release_date</th>\n",
       "      <th>Budget</th>\n",
       "    </tr>\n",
       "  </thead>\n",
       "  <tbody>\n",
       "    <tr>\n",
       "      <th>0</th>\n",
       "      <td>crouchingtigerhiddendragon</td>\n",
       "      <td>None</td>\n",
       "      <td>128078872</td>\n",
       "      <td>PG-13</td>\n",
       "      <td>Foreign / Action</td>\n",
       "      <td>2 hrs. 0 min.</td>\n",
       "      <td>December 8, 2000</td>\n",
       "      <td>17000000</td>\n",
       "    </tr>\n",
       "    <tr>\n",
       "      <th>1</th>\n",
       "      <td>lifeisbeautiful</td>\n",
       "      <td>Taiwan</td>\n",
       "      <td>57247384</td>\n",
       "      <td>PG-13</td>\n",
       "      <td>Foreign</td>\n",
       "      <td>1 hrs. 56 min.</td>\n",
       "      <td>October 23, 1998</td>\n",
       "      <td>0</td>\n",
       "    </tr>\n",
       "    <tr>\n",
       "      <th>2</th>\n",
       "      <td>hero</td>\n",
       "      <td>Italy</td>\n",
       "      <td>19507345</td>\n",
       "      <td>PG-13</td>\n",
       "      <td>Comedy</td>\n",
       "      <td>1 hrs. 58 min.</td>\n",
       "      <td>October 2, 1992</td>\n",
       "      <td>0</td>\n",
       "    </tr>\n",
       "    <tr>\n",
       "      <th>3</th>\n",
       "      <td>instructionsnotincluded</td>\n",
       "      <td>China</td>\n",
       "      <td>44467206</td>\n",
       "      <td>PG-13</td>\n",
       "      <td>Foreign</td>\n",
       "      <td>1 hrs. 55 min.</td>\n",
       "      <td>August 30, 2013</td>\n",
       "      <td>0</td>\n",
       "    </tr>\n",
       "    <tr>\n",
       "      <th>4</th>\n",
       "      <td>panslabyrinth</td>\n",
       "      <td>None</td>\n",
       "      <td>37634615</td>\n",
       "      <td>R</td>\n",
       "      <td>Foreign / Horror</td>\n",
       "      <td>1 hrs. 52 min.</td>\n",
       "      <td>December 29, 2006</td>\n",
       "      <td>19000000</td>\n",
       "    </tr>\n",
       "  </tbody>\n",
       "</table>\n",
       "</div>"
      ],
      "text/plain": [
       "                        Movie Country        GDP   MPAA             Genre  \\\n",
       "0  crouchingtigerhiddendragon    None  128078872  PG-13  Foreign / Action   \n",
       "1             lifeisbeautiful  Taiwan   57247384  PG-13           Foreign   \n",
       "2                        hero   Italy   19507345  PG-13            Comedy   \n",
       "3     instructionsnotincluded   China   44467206  PG-13           Foreign   \n",
       "4               panslabyrinth    None   37634615      R  Foreign / Horror   \n",
       "\n",
       "          Runtime       Release_date    Budget  \n",
       "0   2 hrs. 0 min.   December 8, 2000  17000000  \n",
       "1  1 hrs. 56 min.   October 23, 1998         0  \n",
       "2  1 hrs. 58 min.    October 2, 1992         0  \n",
       "3  1 hrs. 55 min.    August 30, 2013         0  \n",
       "4  1 hrs. 52 min.  December 29, 2006  19000000  "
      ]
     },
     "execution_count": 23,
     "metadata": {},
     "output_type": "execute_result"
    }
   ],
   "source": [
    "df.head()"
   ]
  },
  {
   "cell_type": "markdown",
   "metadata": {},
   "source": [
    "# End column rename"
   ]
  },
  {
   "cell_type": "markdown",
   "metadata": {},
   "source": [
    "# Data exploration"
   ]
  },
  {
   "cell_type": "code",
   "execution_count": 263,
   "metadata": {
    "collapsed": true
   },
   "outputs": [],
   "source": [
    "import numpy as np\n",
    "import pandas as pd\n",
    "import matplotlib.pyplot as plt\n",
    "%matplotlib inline"
   ]
  },
  {
   "cell_type": "code",
   "execution_count": 74,
   "metadata": {
    "collapsed": false
   },
   "outputs": [
    {
     "data": {
      "text/plain": [
       "(1797, 8)"
      ]
     },
     "execution_count": 74,
     "metadata": {},
     "output_type": "execute_result"
    }
   ],
   "source": [
    "df.shape"
   ]
  },
  {
   "cell_type": "code",
   "execution_count": 31,
   "metadata": {
    "collapsed": false
   },
   "outputs": [
    {
     "data": {
      "text/html": [
       "<div>\n",
       "<table border=\"1\" class=\"dataframe\">\n",
       "  <thead>\n",
       "    <tr style=\"text-align: right;\">\n",
       "      <th></th>\n",
       "      <th>Movie</th>\n",
       "      <th>Country</th>\n",
       "      <th>GDP</th>\n",
       "      <th>MPAA</th>\n",
       "      <th>Genre</th>\n",
       "      <th>Runtime</th>\n",
       "      <th>Release_date</th>\n",
       "      <th>Budget</th>\n",
       "    </tr>\n",
       "  </thead>\n",
       "  <tbody>\n",
       "    <tr>\n",
       "      <th>0</th>\n",
       "      <td>crouchingtigerhiddendragon</td>\n",
       "      <td>None</td>\n",
       "      <td>128078872</td>\n",
       "      <td>PG-13</td>\n",
       "      <td>Foreign / Action</td>\n",
       "      <td>2 hrs. 0 min.</td>\n",
       "      <td>December 8, 2000</td>\n",
       "      <td>17000000</td>\n",
       "    </tr>\n",
       "    <tr>\n",
       "      <th>1</th>\n",
       "      <td>lifeisbeautiful</td>\n",
       "      <td>Taiwan</td>\n",
       "      <td>57247384</td>\n",
       "      <td>PG-13</td>\n",
       "      <td>Foreign</td>\n",
       "      <td>1 hrs. 56 min.</td>\n",
       "      <td>October 23, 1998</td>\n",
       "      <td>0</td>\n",
       "    </tr>\n",
       "    <tr>\n",
       "      <th>2</th>\n",
       "      <td>hero</td>\n",
       "      <td>Italy</td>\n",
       "      <td>19507345</td>\n",
       "      <td>PG-13</td>\n",
       "      <td>Comedy</td>\n",
       "      <td>1 hrs. 58 min.</td>\n",
       "      <td>October 2, 1992</td>\n",
       "      <td>0</td>\n",
       "    </tr>\n",
       "    <tr>\n",
       "      <th>3</th>\n",
       "      <td>instructionsnotincluded</td>\n",
       "      <td>China</td>\n",
       "      <td>44467206</td>\n",
       "      <td>PG-13</td>\n",
       "      <td>Foreign</td>\n",
       "      <td>1 hrs. 55 min.</td>\n",
       "      <td>August 30, 2013</td>\n",
       "      <td>0</td>\n",
       "    </tr>\n",
       "    <tr>\n",
       "      <th>4</th>\n",
       "      <td>panslabyrinth</td>\n",
       "      <td>None</td>\n",
       "      <td>37634615</td>\n",
       "      <td>R</td>\n",
       "      <td>Foreign / Horror</td>\n",
       "      <td>1 hrs. 52 min.</td>\n",
       "      <td>December 29, 2006</td>\n",
       "      <td>19000000</td>\n",
       "    </tr>\n",
       "  </tbody>\n",
       "</table>\n",
       "</div>"
      ],
      "text/plain": [
       "                        Movie Country        GDP   MPAA             Genre  \\\n",
       "0  crouchingtigerhiddendragon    None  128078872  PG-13  Foreign / Action   \n",
       "1             lifeisbeautiful  Taiwan   57247384  PG-13           Foreign   \n",
       "2                        hero   Italy   19507345  PG-13            Comedy   \n",
       "3     instructionsnotincluded   China   44467206  PG-13           Foreign   \n",
       "4               panslabyrinth    None   37634615      R  Foreign / Horror   \n",
       "\n",
       "          Runtime       Release_date    Budget  \n",
       "0   2 hrs. 0 min.   December 8, 2000  17000000  \n",
       "1  1 hrs. 56 min.   October 23, 1998         0  \n",
       "2  1 hrs. 58 min.    October 2, 1992         0  \n",
       "3  1 hrs. 55 min.    August 30, 2013         0  \n",
       "4  1 hrs. 52 min.  December 29, 2006  19000000  "
      ]
     },
     "execution_count": 31,
     "metadata": {},
     "output_type": "execute_result"
    }
   ],
   "source": [
    "df.head()"
   ]
  },
  {
   "cell_type": "markdown",
   "metadata": {},
   "source": [
    "## Budget"
   ]
  },
  {
   "cell_type": "code",
   "execution_count": 37,
   "metadata": {
    "collapsed": false
   },
   "outputs": [],
   "source": [
    "df['Budget'] = [None if i == 'None' else float(i.replace(\",\", \"\")) for i in df['Budget']]"
   ]
  },
  {
   "cell_type": "code",
   "execution_count": 264,
   "metadata": {
    "collapsed": false
   },
   "outputs": [
    {
     "data": {
      "text/plain": [
       "(array([  1.32200000e+03,   4.00000000e+00,   1.20000000e+01,\n",
       "          3.00000000e+00,   2.00000000e+00,   4.00000000e+00,\n",
       "          1.00000000e+00,   0.00000000e+00,   1.00000000e+00,\n",
       "          2.00000000e+00]),\n",
       " array([        0.,   8500000.,  17000000.,  25500000.,  34000000.,\n",
       "         42500000.,  51000000.,  59500000.,  68000000.,  76500000.,\n",
       "         85000000.]),\n",
       " <a list of 10 Patch objects>)"
      ]
     },
     "execution_count": 264,
     "metadata": {},
     "output_type": "execute_result"
    },
    {
     "data": {
      "image/png": "[encoded data removed]",
      "text/plain": [
       "<matplotlib.figure.Figure at 0x112e2a310>"
      ]
     },
     "metadata": {},
     "output_type": "display_data"
    }
   ],
   "source": [
    "plt.hist(df[df['Budget'].notnull()]['Budget'])"
   ]
  },
  {
   "cell_type": "code",
   "execution_count": 79,
   "metadata": {
    "collapsed": false
   },
   "outputs": [
    {
     "name": "stdout",
     "output_type": "stream",
     "text": [
      "Number of movies with missing budget: 446\n"
     ]
    }
   ],
   "source": [
    "print \"Number of movies with missing budget: {}\".format(df[~df['Budget'].notnull()].shape[0])"
   ]
  },
  {
   "cell_type": "code",
   "execution_count": 68,
   "metadata": {
    "collapsed": false
   },
   "outputs": [],
   "source": [
    "boolean = df[df['Budget'].notnull()]['Budget'] == 0.0"
   ]
  },
  {
   "cell_type": "code",
   "execution_count": 83,
   "metadata": {
    "collapsed": false
   },
   "outputs": [
    {
     "name": "stdout",
     "output_type": "stream",
     "text": [
      "Number of movies with non-zero budget: 51\n",
      "Number of movies with zero budget: 1300\n"
     ]
    }
   ],
   "source": [
    "print \"Number of movies with non-zero budget: {}\".format(df[df['Budget'].notnull()][~boolean].shape[0])\n",
    "print \"Number of movies with zero budget: {}\".format(df[df['Budget'].notnull()][boolean].shape[0])"
   ]
  },
  {
   "cell_type": "code",
   "execution_count": 84,
   "metadata": {
    "collapsed": false
   },
   "outputs": [],
   "source": [
    "bud_cat = []\n",
    "for i in df['Budget']:\n",
    "    if i is None:\n",
    "        bud_cat.append('None')\n",
    "    elif i == 0.0:\n",
    "        bud_cat.append('zero')\n",
    "    else:\n",
    "        bud_cat.append('real')\n",
    "df['BudgetCategory'] = bud_cat"
   ]
  },
  {
   "cell_type": "markdown",
   "metadata": {},
   "source": [
    "## GDP"
   ]
  },
  {
   "cell_type": "code",
   "execution_count": 94,
   "metadata": {
    "collapsed": false
   },
   "outputs": [],
   "source": [
    "df['GDP'] = [None if i == 'None' else float(i.replace(\",\", \"\")) for i in df['GDP']]"
   ]
  },
  {
   "cell_type": "code",
   "execution_count": 99,
   "metadata": {
    "collapsed": false
   },
   "outputs": [
    {
     "name": "stdout",
     "output_type": "stream",
     "text": [
      "Number of movies with missing GDP: 563\n",
      "Number of movies with GDP: 1234\n"
     ]
    }
   ],
   "source": [
    "print \"Number of movies with missing GDP: {}\".format(df[~df['GDP'].notnull()].shape[0])\n",
    "print \"Number of movies with GDP: {}\".format(df[df['GDP'].notnull()].shape[0])"
   ]
  },
  {
   "cell_type": "code",
   "execution_count": 265,
   "metadata": {
    "collapsed": false
   },
   "outputs": [
    {
     "data": {
      "text/plain": [
       "(array([  1.14300000e+03,   3.50000000e+01,   1.60000000e+01,\n",
       "          1.00000000e+01,   5.00000000e+00,   2.00000000e+00,\n",
       "          9.00000000e+00,   1.00000000e+00,   2.00000000e+00,\n",
       "          0.00000000e+00,   2.00000000e+00,   1.00000000e+00,\n",
       "          1.00000000e+00,   0.00000000e+00,   1.00000000e+00,\n",
       "          2.00000000e+00,   0.00000000e+00,   1.00000000e+00,\n",
       "          0.00000000e+00,   0.00000000e+00,   0.00000000e+00,\n",
       "          0.00000000e+00,   1.00000000e+00,   1.00000000e+00,\n",
       "          1.00000000e+00]),\n",
       " array([  8.00000000e+01,   5.38041884e+06,   1.07607577e+07,\n",
       "          1.61410965e+07,   2.15214354e+07,   2.69017742e+07,\n",
       "          3.22821130e+07,   3.76624519e+07,   4.30427907e+07,\n",
       "          4.84231296e+07,   5.38034684e+07,   5.91838072e+07,\n",
       "          6.45641461e+07,   6.99444849e+07,   7.53248238e+07,\n",
       "          8.07051626e+07,   8.60855014e+07,   9.14658403e+07,\n",
       "          9.68461791e+07,   1.02226518e+08,   1.07606857e+08,\n",
       "          1.12987196e+08,   1.18367534e+08,   1.23747873e+08,\n",
       "          1.29128212e+08,   1.34508551e+08]),\n",
       " <a list of 25 Patch objects>)"
      ]
     },
     "execution_count": 265,
     "metadata": {},
     "output_type": "execute_result"
    },
    {
     "data": {
      "image/png": "[encoded data removed]",
      "text/plain": [
       "<matplotlib.figure.Figure at 0x11affe4d0>"
      ]
     },
     "metadata": {},
     "output_type": "display_data"
    }
   ],
   "source": [
    "plt.hist(df[df['GDP'].notnull()]['GDP'], bins = 25)"
   ]
  },
  {
   "cell_type": "code",
   "execution_count": 266,
   "metadata": {
    "collapsed": false
   },
   "outputs": [
    {
     "data": {
      "text/plain": [
       "(array([   1.,   21.,   66.,  182.,  220.,  251.,  281.,  148.,   41.,   23.]),\n",
       " array([  4.38202663,   5.8155378 ,   7.24904897,   8.68256014,\n",
       "         10.11607131,  11.54958248,  12.98309365,  14.41660482,\n",
       "         15.85011599,  17.28362716,  18.71713833]),\n",
       " <a list of 10 Patch objects>)"
      ]
     },
     "execution_count": 266,
     "metadata": {},
     "output_type": "execute_result"
    },
    {
     "data": {
      "image/png": "[encoded data removed]",
      "text/plain": [
       "<matplotlib.figure.Figure at 0x11b165e90>"
      ]
     },
     "metadata": {},
     "output_type": "display_data"
    }
   ],
   "source": [
    "plt.hist(np.log(np.array(df[df['GDP'].notnull()]['GDP'])))"
   ]
  },
  {
   "cell_type": "code",
   "execution_count": 109,
   "metadata": {
    "collapsed": false
   },
   "outputs": [],
   "source": [
    "df['log_GDP'] = [None if i is None else np.log(i) for i in df['GDP']]"
   ]
  },
  {
   "cell_type": "code",
   "execution_count": 110,
   "metadata": {
    "collapsed": false
   },
   "outputs": [
    {
     "data": {
      "text/html": [
       "<div>\n",
       "<table border=\"1\" class=\"dataframe\">\n",
       "  <thead>\n",
       "    <tr style=\"text-align: right;\">\n",
       "      <th></th>\n",
       "      <th>Movie</th>\n",
       "      <th>Country</th>\n",
       "      <th>GDP</th>\n",
       "      <th>MPAA</th>\n",
       "      <th>Genre</th>\n",
       "      <th>Runtime</th>\n",
       "      <th>Release_date</th>\n",
       "      <th>Budget</th>\n",
       "      <th>BudgetCategory</th>\n",
       "      <th>log_GDP</th>\n",
       "    </tr>\n",
       "  </thead>\n",
       "  <tbody>\n",
       "    <tr>\n",
       "      <th>0</th>\n",
       "      <td>crouchingtigerhiddendragon</td>\n",
       "      <td>None</td>\n",
       "      <td>128078872</td>\n",
       "      <td>PG-13</td>\n",
       "      <td>Foreign / Action</td>\n",
       "      <td>2 hrs. 0 min.</td>\n",
       "      <td>December 8, 2000</td>\n",
       "      <td>17000000</td>\n",
       "      <td>real</td>\n",
       "      <td>18.668157</td>\n",
       "    </tr>\n",
       "    <tr>\n",
       "      <th>1</th>\n",
       "      <td>lifeisbeautiful</td>\n",
       "      <td>Taiwan</td>\n",
       "      <td>57247384</td>\n",
       "      <td>PG-13</td>\n",
       "      <td>Foreign</td>\n",
       "      <td>1 hrs. 56 min.</td>\n",
       "      <td>October 23, 1998</td>\n",
       "      <td>0</td>\n",
       "      <td>zero</td>\n",
       "      <td>17.862893</td>\n",
       "    </tr>\n",
       "    <tr>\n",
       "      <th>2</th>\n",
       "      <td>hero</td>\n",
       "      <td>Italy</td>\n",
       "      <td>19507345</td>\n",
       "      <td>PG-13</td>\n",
       "      <td>Comedy</td>\n",
       "      <td>1 hrs. 58 min.</td>\n",
       "      <td>October 2, 1992</td>\n",
       "      <td>0</td>\n",
       "      <td>zero</td>\n",
       "      <td>16.786302</td>\n",
       "    </tr>\n",
       "    <tr>\n",
       "      <th>3</th>\n",
       "      <td>instructionsnotincluded</td>\n",
       "      <td>China</td>\n",
       "      <td>44467206</td>\n",
       "      <td>PG-13</td>\n",
       "      <td>Foreign</td>\n",
       "      <td>1 hrs. 55 min.</td>\n",
       "      <td>August 30, 2013</td>\n",
       "      <td>0</td>\n",
       "      <td>zero</td>\n",
       "      <td>17.610263</td>\n",
       "    </tr>\n",
       "    <tr>\n",
       "      <th>4</th>\n",
       "      <td>panslabyrinth</td>\n",
       "      <td>None</td>\n",
       "      <td>37634615</td>\n",
       "      <td>R</td>\n",
       "      <td>Foreign / Horror</td>\n",
       "      <td>1 hrs. 52 min.</td>\n",
       "      <td>December 29, 2006</td>\n",
       "      <td>19000000</td>\n",
       "      <td>real</td>\n",
       "      <td>17.443435</td>\n",
       "    </tr>\n",
       "  </tbody>\n",
       "</table>\n",
       "</div>"
      ],
      "text/plain": [
       "                        Movie Country        GDP   MPAA             Genre  \\\n",
       "0  crouchingtigerhiddendragon    None  128078872  PG-13  Foreign / Action   \n",
       "1             lifeisbeautiful  Taiwan   57247384  PG-13           Foreign   \n",
       "2                        hero   Italy   19507345  PG-13            Comedy   \n",
       "3     instructionsnotincluded   China   44467206  PG-13           Foreign   \n",
       "4               panslabyrinth    None   37634615      R  Foreign / Horror   \n",
       "\n",
       "          Runtime       Release_date    Budget BudgetCategory    log_GDP  \n",
       "0   2 hrs. 0 min.   December 8, 2000  17000000           real  18.668157  \n",
       "1  1 hrs. 56 min.   October 23, 1998         0           zero  17.862893  \n",
       "2  1 hrs. 58 min.    October 2, 1992         0           zero  16.786302  \n",
       "3  1 hrs. 55 min.    August 30, 2013         0           zero  17.610263  \n",
       "4  1 hrs. 52 min.  December 29, 2006  19000000           real  17.443435  "
      ]
     },
     "execution_count": 110,
     "metadata": {},
     "output_type": "execute_result"
    }
   ],
   "source": [
    "df.head()"
   ]
  },
  {
   "cell_type": "markdown",
   "metadata": {},
   "source": [
    "## Runtime"
   ]
  },
  {
   "cell_type": "code",
   "execution_count": 116,
   "metadata": {
    "collapsed": false
   },
   "outputs": [],
   "source": [
    "run_cat = []\n",
    "hours = []\n",
    "minutes = []\n",
    "for i in df['Runtime']:\n",
    "    if i == 'N/A':\n",
    "        run_cat.append('NA')\n",
    "        hours.append(0.0)\n",
    "        minutes.append(0.0)\n",
    "    elif i == 'None':\n",
    "        run_cat.append('None')\n",
    "        hours.append(0.0)\n",
    "        minutes.append(0.0)\n",
    "    else:\n",
    "        run_cat.append('Real')\n",
    "        tmp = i.split()\n",
    "        hours.append(float(tmp[0]))\n",
    "        minutes.append(float(tmp[2]))"
   ]
  },
  {
   "cell_type": "code",
   "execution_count": 117,
   "metadata": {
    "collapsed": true
   },
   "outputs": [],
   "source": [
    "df['run_cat'] = run_cat\n",
    "df['hours'] = hours\n",
    "df['minutes'] = minutes"
   ]
  },
  {
   "cell_type": "code",
   "execution_count": 120,
   "metadata": {
    "collapsed": false
   },
   "outputs": [],
   "source": [
    "df['total_minutes'] = df['hours']*60 + df['minutes']"
   ]
  },
  {
   "cell_type": "code",
   "execution_count": 121,
   "metadata": {
    "collapsed": false
   },
   "outputs": [
    {
     "data": {
      "text/html": [
       "<div>\n",
       "<table border=\"1\" class=\"dataframe\">\n",
       "  <thead>\n",
       "    <tr style=\"text-align: right;\">\n",
       "      <th></th>\n",
       "      <th>Movie</th>\n",
       "      <th>Country</th>\n",
       "      <th>GDP</th>\n",
       "      <th>MPAA</th>\n",
       "      <th>Genre</th>\n",
       "      <th>Runtime</th>\n",
       "      <th>Release_date</th>\n",
       "      <th>Budget</th>\n",
       "      <th>BudgetCategory</th>\n",
       "      <th>log_GDP</th>\n",
       "      <th>run_cat</th>\n",
       "      <th>hours</th>\n",
       "      <th>minutes</th>\n",
       "      <th>total_minutes</th>\n",
       "    </tr>\n",
       "  </thead>\n",
       "  <tbody>\n",
       "    <tr>\n",
       "      <th>0</th>\n",
       "      <td>crouchingtigerhiddendragon</td>\n",
       "      <td>None</td>\n",
       "      <td>128078872</td>\n",
       "      <td>PG-13</td>\n",
       "      <td>Foreign / Action</td>\n",
       "      <td>2 hrs. 0 min.</td>\n",
       "      <td>December 8, 2000</td>\n",
       "      <td>17000000</td>\n",
       "      <td>real</td>\n",
       "      <td>18.668157</td>\n",
       "      <td>Real</td>\n",
       "      <td>2</td>\n",
       "      <td>0</td>\n",
       "      <td>120</td>\n",
       "    </tr>\n",
       "    <tr>\n",
       "      <th>1</th>\n",
       "      <td>lifeisbeautiful</td>\n",
       "      <td>Taiwan</td>\n",
       "      <td>57247384</td>\n",
       "      <td>PG-13</td>\n",
       "      <td>Foreign</td>\n",
       "      <td>1 hrs. 56 min.</td>\n",
       "      <td>October 23, 1998</td>\n",
       "      <td>0</td>\n",
       "      <td>zero</td>\n",
       "      <td>17.862893</td>\n",
       "      <td>Real</td>\n",
       "      <td>1</td>\n",
       "      <td>56</td>\n",
       "      <td>116</td>\n",
       "    </tr>\n",
       "    <tr>\n",
       "      <th>2</th>\n",
       "      <td>hero</td>\n",
       "      <td>Italy</td>\n",
       "      <td>19507345</td>\n",
       "      <td>PG-13</td>\n",
       "      <td>Comedy</td>\n",
       "      <td>1 hrs. 58 min.</td>\n",
       "      <td>October 2, 1992</td>\n",
       "      <td>0</td>\n",
       "      <td>zero</td>\n",
       "      <td>16.786302</td>\n",
       "      <td>Real</td>\n",
       "      <td>1</td>\n",
       "      <td>58</td>\n",
       "      <td>118</td>\n",
       "    </tr>\n",
       "    <tr>\n",
       "      <th>3</th>\n",
       "      <td>instructionsnotincluded</td>\n",
       "      <td>China</td>\n",
       "      <td>44467206</td>\n",
       "      <td>PG-13</td>\n",
       "      <td>Foreign</td>\n",
       "      <td>1 hrs. 55 min.</td>\n",
       "      <td>August 30, 2013</td>\n",
       "      <td>0</td>\n",
       "      <td>zero</td>\n",
       "      <td>17.610263</td>\n",
       "      <td>Real</td>\n",
       "      <td>1</td>\n",
       "      <td>55</td>\n",
       "      <td>115</td>\n",
       "    </tr>\n",
       "    <tr>\n",
       "      <th>4</th>\n",
       "      <td>panslabyrinth</td>\n",
       "      <td>None</td>\n",
       "      <td>37634615</td>\n",
       "      <td>R</td>\n",
       "      <td>Foreign / Horror</td>\n",
       "      <td>1 hrs. 52 min.</td>\n",
       "      <td>December 29, 2006</td>\n",
       "      <td>19000000</td>\n",
       "      <td>real</td>\n",
       "      <td>17.443435</td>\n",
       "      <td>Real</td>\n",
       "      <td>1</td>\n",
       "      <td>52</td>\n",
       "      <td>112</td>\n",
       "    </tr>\n",
       "  </tbody>\n",
       "</table>\n",
       "</div>"
      ],
      "text/plain": [
       "                        Movie Country        GDP   MPAA             Genre  \\\n",
       "0  crouchingtigerhiddendragon    None  128078872  PG-13  Foreign / Action   \n",
       "1             lifeisbeautiful  Taiwan   57247384  PG-13           Foreign   \n",
       "2                        hero   Italy   19507345  PG-13            Comedy   \n",
       "3     instructionsnotincluded   China   44467206  PG-13           Foreign   \n",
       "4               panslabyrinth    None   37634615      R  Foreign / Horror   \n",
       "\n",
       "          Runtime       Release_date    Budget BudgetCategory    log_GDP  \\\n",
       "0   2 hrs. 0 min.   December 8, 2000  17000000           real  18.668157   \n",
       "1  1 hrs. 56 min.   October 23, 1998         0           zero  17.862893   \n",
       "2  1 hrs. 58 min.    October 2, 1992         0           zero  16.786302   \n",
       "3  1 hrs. 55 min.    August 30, 2013         0           zero  17.610263   \n",
       "4  1 hrs. 52 min.  December 29, 2006  19000000           real  17.443435   \n",
       "\n",
       "  run_cat  hours  minutes  total_minutes  \n",
       "0    Real      2        0            120  \n",
       "1    Real      1       56            116  \n",
       "2    Real      1       58            118  \n",
       "3    Real      1       55            115  \n",
       "4    Real      1       52            112  "
      ]
     },
     "execution_count": 121,
     "metadata": {},
     "output_type": "execute_result"
    }
   ],
   "source": [
    "df.head()"
   ]
  },
  {
   "cell_type": "code",
   "execution_count": 123,
   "metadata": {
    "collapsed": false
   },
   "outputs": [
    {
     "data": {
      "text/plain": [
       "(array([ 514.,    0.,    0.,    9.,  189.,  473.,  314.,  163.,   79.,\n",
       "          35.,   12.,    2.,    2.,    1.,    2.,    0.,    0.,    1.,\n",
       "           0.,    1.]),\n",
       " array([   0. ,   18.3,   36.6,   54.9,   73.2,   91.5,  109.8,  128.1,\n",
       "         146.4,  164.7,  183. ,  201.3,  219.6,  237.9,  256.2,  274.5,\n",
       "         292.8,  311.1,  329.4,  347.7,  366. ]),\n",
       " <a list of 20 Patch objects>)"
      ]
     },
     "execution_count": 123,
     "metadata": {},
     "output_type": "execute_result"
    },
    {
     "data": {
      "image/png": "[encoded data removed]",
      "text/plain": [
       "<matplotlib.figure.Figure at 0x117d16590>"
      ]
     },
     "metadata": {},
     "output_type": "display_data"
    }
   ],
   "source": [
    "plt.hist(df['total_minutes'], bins = 20)"
   ]
  },
  {
   "cell_type": "code",
   "execution_count": 124,
   "metadata": {
    "collapsed": false
   },
   "outputs": [
    {
     "data": {
      "text/plain": [
       "<matplotlib.collections.PathCollection at 0x11816f410>"
      ]
     },
     "execution_count": 124,
     "metadata": {},
     "output_type": "execute_result"
    },
    {
     "data": {
      "image/png": "[encoded data removed]",
      "text/plain": [
       "<matplotlib.figure.Figure at 0x10ea42fd0>"
      ]
     },
     "metadata": {},
     "output_type": "display_data"
    }
   ],
   "source": [
    "plt.scatter(df['total_minutes'], df['log_GDP'])"
   ]
  },
  {
   "cell_type": "code",
   "execution_count": 129,
   "metadata": {
    "collapsed": false,
    "scrolled": true
   },
   "outputs": [
    {
     "data": {
      "text/plain": [
       "France                  142\n",
       "India                   108\n",
       "Japan                    40\n",
       "Italy                    31\n",
       "China                    30\n",
       "Germany                  30\n",
       "Spain                    26\n",
       "Hungary                  19\n",
       "Mexico                   18\n",
       "Russia                   13\n",
       "Argentina                12\n",
       "Hong Kong                11\n",
       "Sweden                   11\n",
       "Israel                   11\n",
       "South Korea              10\n",
       "Brazil                   10\n",
       "French Canada             9\n",
       "Denmark                   9\n",
       "Norway                    7\n",
       "Czech Republic            5\n",
       "Iran                      5\n",
       "Thailand                  5\n",
       "Belgium                   5\n",
       "Taiwan                    5\n",
       "Turkey                    5\n",
       "Holland                   4\n",
       "Czech                     3\n",
       "Cuba                      3\n",
       "Korea                     2\n",
       "Philippines               2\n",
       "                       ... \n",
       "Romania                   2\n",
       "Switzerland               2\n",
       "Vietnam                   2\n",
       "Macedonia                 2\n",
       "Peru                      2\n",
       "Austria                   2\n",
       "Finland                   2\n",
       "Ethiopia                  1\n",
       "French                    1\n",
       "Chile                     1\n",
       "Portugal                  1\n",
       "Georgia                   1\n",
       "France / Germany          1\n",
       "Asian anthology           1\n",
       "Poland                    1\n",
       "Lebanon                   1\n",
       "Croatia                   1\n",
       "Aboriginal Australia      1\n",
       "Belgium / France          1\n",
       "Columbia                  1\n",
       "Mideast                   1\n",
       "Nepal                     1\n",
       "Bhutan                    1\n",
       "india                     1\n",
       "Mongolia                  1\n",
       "Bosnia                    1\n",
       "The Netherlands           1\n",
       "Mauritania                1\n",
       "Kazakhstan                1\n",
       "Uruguay                   1\n",
       "dtype: int64"
      ]
     },
     "execution_count": 129,
     "metadata": {},
     "output_type": "execute_result"
    }
   ],
   "source": [
    "df['Country'].value_counts()"
   ]
  },
  {
   "cell_type": "code",
   "execution_count": 138,
   "metadata": {
    "collapsed": false
   },
   "outputs": [],
   "source": [
    "c1 = []\n",
    "c2 = []\n",
    "for i in df['Genre']:\n",
    "    if i is None:\n",
    "        c1.append('None')\n",
    "        c2.append('None')\n",
    "    else:\n",
    "        tmp = i.replace('/', '').split()\n",
    "        if len(tmp) == 1:\n",
    "            c1.append(tmp[0])\n",
    "            c2.append('None')\n",
    "        else:\n",
    "            c1.append(tmp[0])\n",
    "            c2.append(tmp[1])"
   ]
  },
  {
   "cell_type": "code",
   "execution_count": 139,
   "metadata": {
    "collapsed": true
   },
   "outputs": [],
   "source": [
    "df['c1'] = c1\n",
    "df['c2'] = c2"
   ]
  },
  {
   "cell_type": "code",
   "execution_count": 154,
   "metadata": {
    "collapsed": false
   },
   "outputs": [],
   "source": [
    "df = pd.get_dummies(df, columns = ['c1', 'c2'])"
   ]
  },
  {
   "cell_type": "code",
   "execution_count": 157,
   "metadata": {
    "collapsed": false
   },
   "outputs": [],
   "source": [
    "df['adventure'] = df['c1_Adventure'] +  df['c2_Adventure']\n",
    "df['Thriller'] = df['c1_Thriller'] +  df['c2_Thriller']\n",
    "df['Animation'] = df['c1_Animation' ]   \n",
    "df['Comedy'] = df['c1_Comedy'] +  df['c2_Comedy']\n",
    "df['Crime'] = df['c1_Crime']\n",
    "df['Documentary'] = df['c1_Documentary']      \n",
    "df['Drama'] = df['c1_Drama'] +  df['c2_Drama']\n",
    "df['Family'] = df['c1_Family'] \n",
    "df['Foreign'] = df['c1_Foreign']     \n",
    "df['Horror'] = df['c1_Horror'] +  df['c2_Horror']\n",
    "df['Music'] = df['c1_Music']          \n",
    "df['Period'] = df['c1_Period']\n",
    "df['Romance'] = df['c1_Romance'] + df['c1_Romantic']\n",
    "df['Sci-Fi'] = df['c1_Sci-Fi']\n",
    "df['Unknown'] = df['c1_Unknown']    \n",
    "df['War'] = df['c1_War']\n",
    "df['Fantasy'] = df['c2_Fantasy']\n",
    "df['Action'] = df['c1_Action'] +  df['c2_Action']"
   ]
  },
  {
   "cell_type": "code",
   "execution_count": 160,
   "metadata": {
    "collapsed": false
   },
   "outputs": [],
   "source": [
    "df = pd.get_dummies(df, columns = ['MPAA'])"
   ]
  },
  {
   "cell_type": "code",
   "execution_count": 162,
   "metadata": {
    "collapsed": true
   },
   "outputs": [],
   "source": [
    "cntry = ['France', 'India', 'Japan','Italy',  'China','Germany', 'Spain']   "
   ]
  },
  {
   "cell_type": "code",
   "execution_count": 164,
   "metadata": {
    "collapsed": false
   },
   "outputs": [],
   "source": [
    "df['new_country'] = [i if i in cntry else 'other' for i in df['Country']]"
   ]
  },
  {
   "cell_type": "code",
   "execution_count": 166,
   "metadata": {
    "collapsed": false
   },
   "outputs": [],
   "source": [
    "df = pd.get_dummies(df, columns = ['new_country'])"
   ]
  },
  {
   "cell_type": "code",
   "execution_count": 167,
   "metadata": {
    "collapsed": false
   },
   "outputs": [
    {
     "data": {
      "text/html": [
       "<div>\n",
       "<table border=\"1\" class=\"dataframe\">\n",
       "  <thead>\n",
       "    <tr style=\"text-align: right;\">\n",
       "      <th></th>\n",
       "      <th>Movie</th>\n",
       "      <th>Country</th>\n",
       "      <th>GDP</th>\n",
       "      <th>Genre</th>\n",
       "      <th>Runtime</th>\n",
       "      <th>Release_date</th>\n",
       "      <th>Budget</th>\n",
       "      <th>BudgetCategory</th>\n",
       "      <th>log_GDP</th>\n",
       "      <th>run_cat</th>\n",
       "      <th>...</th>\n",
       "      <th>MPAA_R</th>\n",
       "      <th>MPAA_Unrated</th>\n",
       "      <th>new_country_China</th>\n",
       "      <th>new_country_France</th>\n",
       "      <th>new_country_Germany</th>\n",
       "      <th>new_country_India</th>\n",
       "      <th>new_country_Italy</th>\n",
       "      <th>new_country_Japan</th>\n",
       "      <th>new_country_Spain</th>\n",
       "      <th>new_country_other</th>\n",
       "    </tr>\n",
       "  </thead>\n",
       "  <tbody>\n",
       "    <tr>\n",
       "      <th>0</th>\n",
       "      <td>crouchingtigerhiddendragon</td>\n",
       "      <td>None</td>\n",
       "      <td>128078872</td>\n",
       "      <td>Foreign / Action</td>\n",
       "      <td>2 hrs. 0 min.</td>\n",
       "      <td>December 8, 2000</td>\n",
       "      <td>17000000</td>\n",
       "      <td>real</td>\n",
       "      <td>18.668157</td>\n",
       "      <td>Real</td>\n",
       "      <td>...</td>\n",
       "      <td>0</td>\n",
       "      <td>0</td>\n",
       "      <td>0</td>\n",
       "      <td>0</td>\n",
       "      <td>0</td>\n",
       "      <td>0</td>\n",
       "      <td>0</td>\n",
       "      <td>0</td>\n",
       "      <td>0</td>\n",
       "      <td>1</td>\n",
       "    </tr>\n",
       "    <tr>\n",
       "      <th>1</th>\n",
       "      <td>lifeisbeautiful</td>\n",
       "      <td>Taiwan</td>\n",
       "      <td>57247384</td>\n",
       "      <td>Foreign</td>\n",
       "      <td>1 hrs. 56 min.</td>\n",
       "      <td>October 23, 1998</td>\n",
       "      <td>0</td>\n",
       "      <td>zero</td>\n",
       "      <td>17.862893</td>\n",
       "      <td>Real</td>\n",
       "      <td>...</td>\n",
       "      <td>0</td>\n",
       "      <td>0</td>\n",
       "      <td>0</td>\n",
       "      <td>0</td>\n",
       "      <td>0</td>\n",
       "      <td>0</td>\n",
       "      <td>0</td>\n",
       "      <td>0</td>\n",
       "      <td>0</td>\n",
       "      <td>1</td>\n",
       "    </tr>\n",
       "    <tr>\n",
       "      <th>2</th>\n",
       "      <td>hero</td>\n",
       "      <td>Italy</td>\n",
       "      <td>19507345</td>\n",
       "      <td>Comedy</td>\n",
       "      <td>1 hrs. 58 min.</td>\n",
       "      <td>October 2, 1992</td>\n",
       "      <td>0</td>\n",
       "      <td>zero</td>\n",
       "      <td>16.786302</td>\n",
       "      <td>Real</td>\n",
       "      <td>...</td>\n",
       "      <td>0</td>\n",
       "      <td>0</td>\n",
       "      <td>0</td>\n",
       "      <td>0</td>\n",
       "      <td>0</td>\n",
       "      <td>0</td>\n",
       "      <td>1</td>\n",
       "      <td>0</td>\n",
       "      <td>0</td>\n",
       "      <td>0</td>\n",
       "    </tr>\n",
       "    <tr>\n",
       "      <th>3</th>\n",
       "      <td>instructionsnotincluded</td>\n",
       "      <td>China</td>\n",
       "      <td>44467206</td>\n",
       "      <td>Foreign</td>\n",
       "      <td>1 hrs. 55 min.</td>\n",
       "      <td>August 30, 2013</td>\n",
       "      <td>0</td>\n",
       "      <td>zero</td>\n",
       "      <td>17.610263</td>\n",
       "      <td>Real</td>\n",
       "      <td>...</td>\n",
       "      <td>0</td>\n",
       "      <td>0</td>\n",
       "      <td>1</td>\n",
       "      <td>0</td>\n",
       "      <td>0</td>\n",
       "      <td>0</td>\n",
       "      <td>0</td>\n",
       "      <td>0</td>\n",
       "      <td>0</td>\n",
       "      <td>0</td>\n",
       "    </tr>\n",
       "    <tr>\n",
       "      <th>4</th>\n",
       "      <td>panslabyrinth</td>\n",
       "      <td>None</td>\n",
       "      <td>37634615</td>\n",
       "      <td>Foreign / Horror</td>\n",
       "      <td>1 hrs. 52 min.</td>\n",
       "      <td>December 29, 2006</td>\n",
       "      <td>19000000</td>\n",
       "      <td>real</td>\n",
       "      <td>17.443435</td>\n",
       "      <td>Real</td>\n",
       "      <td>...</td>\n",
       "      <td>1</td>\n",
       "      <td>0</td>\n",
       "      <td>0</td>\n",
       "      <td>0</td>\n",
       "      <td>0</td>\n",
       "      <td>0</td>\n",
       "      <td>0</td>\n",
       "      <td>0</td>\n",
       "      <td>0</td>\n",
       "      <td>1</td>\n",
       "    </tr>\n",
       "  </tbody>\n",
       "</table>\n",
       "<p>5 rows × 74 columns</p>\n",
       "</div>"
      ],
      "text/plain": [
       "                        Movie Country        GDP             Genre  \\\n",
       "0  crouchingtigerhiddendragon    None  128078872  Foreign / Action   \n",
       "1             lifeisbeautiful  Taiwan   57247384           Foreign   \n",
       "2                        hero   Italy   19507345            Comedy   \n",
       "3     instructionsnotincluded   China   44467206           Foreign   \n",
       "4               panslabyrinth    None   37634615  Foreign / Horror   \n",
       "\n",
       "          Runtime       Release_date    Budget BudgetCategory    log_GDP  \\\n",
       "0   2 hrs. 0 min.   December 8, 2000  17000000           real  18.668157   \n",
       "1  1 hrs. 56 min.   October 23, 1998         0           zero  17.862893   \n",
       "2  1 hrs. 58 min.    October 2, 1992         0           zero  16.786302   \n",
       "3  1 hrs. 55 min.    August 30, 2013         0           zero  17.610263   \n",
       "4  1 hrs. 52 min.  December 29, 2006  19000000           real  17.443435   \n",
       "\n",
       "  run_cat        ...          MPAA_R  MPAA_Unrated  new_country_China  \\\n",
       "0    Real        ...               0             0                  0   \n",
       "1    Real        ...               0             0                  0   \n",
       "2    Real        ...               0             0                  0   \n",
       "3    Real        ...               0             0                  1   \n",
       "4    Real        ...               1             0                  0   \n",
       "\n",
       "   new_country_France  new_country_Germany  new_country_India  \\\n",
       "0                   0                    0                  0   \n",
       "1                   0                    0                  0   \n",
       "2                   0                    0                  0   \n",
       "3                   0                    0                  0   \n",
       "4                   0                    0                  0   \n",
       "\n",
       "   new_country_Italy  new_country_Japan  new_country_Spain  new_country_other  \n",
       "0                  0                  0                  0                  1  \n",
       "1                  0                  0                  0                  1  \n",
       "2                  1                  0                  0                  0  \n",
       "3                  0                  0                  0                  0  \n",
       "4                  0                  0                  0                  1  \n",
       "\n",
       "[5 rows x 74 columns]"
      ]
     },
     "execution_count": 167,
     "metadata": {},
     "output_type": "execute_result"
    }
   ],
   "source": [
    "df.head()"
   ]
  },
  {
   "cell_type": "code",
   "execution_count": 169,
   "metadata": {
    "collapsed": true
   },
   "outputs": [],
   "source": [
    "df = pd.get_dummies(df, columns = ['BudgetCategory'])"
   ]
  },
  {
   "cell_type": "markdown",
   "metadata": {},
   "source": [
    "# End data exploration"
   ]
  },
  {
   "cell_type": "markdown",
   "metadata": {},
   "source": [
    "# Modelling "
   ]
  },
  {
   "cell_type": "code",
   "execution_count": 171,
   "metadata": {
    "collapsed": false
   },
   "outputs": [],
   "source": [
    "col = [ 'log_GDP',\n",
    " 'total_minutes',\n",
    " 'adventure',\n",
    " 'Thriller',\n",
    " 'Animation',\n",
    " 'Comedy',\n",
    " 'Crime',\n",
    " 'Documentary',\n",
    " 'Drama',\n",
    " 'Family',\n",
    " 'Foreign',\n",
    " 'Horror',\n",
    " 'Music',\n",
    " 'Period',\n",
    " 'Romance',\n",
    " 'Sci-Fi',\n",
    " 'Unknown',\n",
    " 'War',\n",
    " 'Fantasy',\n",
    " 'Action',\n",
    " 'MPAA_G',\n",
    " 'MPAA_NC-17',\n",
    " 'MPAA_None',\n",
    " 'MPAA_Not Yet Rated',\n",
    " 'MPAA_PG',\n",
    " 'MPAA_PG-13',\n",
    " 'MPAA_R',\n",
    " 'MPAA_Unrated',\n",
    " 'new_country_China',\n",
    " 'new_country_France',\n",
    " 'new_country_Germany',\n",
    " 'new_country_India',\n",
    " 'new_country_Italy',\n",
    " 'new_country_Japan',\n",
    " 'new_country_Spain',\n",
    " 'new_country_other',\n",
    " 'BudgetCategory_real',\n",
    " 'BudgetCategory_zero']"
   ]
  },
  {
   "cell_type": "code",
   "execution_count": 179,
   "metadata": {
    "collapsed": true
   },
   "outputs": [],
   "source": [
    "feats = ['total_minutes',\n",
    " 'adventure',\n",
    " 'Thriller',\n",
    " 'Animation',\n",
    " 'Comedy',\n",
    " 'Crime',\n",
    " 'Documentary',\n",
    " 'Drama',\n",
    " 'Family',\n",
    " 'Foreign',\n",
    " 'Horror',\n",
    " 'Music',\n",
    " 'Period',\n",
    " 'Romance',\n",
    " 'Sci-Fi',\n",
    " 'Unknown',\n",
    " 'War',\n",
    " 'Fantasy',\n",
    " 'Action',\n",
    " 'MPAA_G',\n",
    " 'MPAA_NC-17',\n",
    " 'MPAA_None',\n",
    " 'MPAA_Not Yet Rated',\n",
    " 'MPAA_PG',\n",
    " 'MPAA_PG-13',\n",
    " 'MPAA_R',\n",
    " 'MPAA_Unrated',\n",
    " 'new_country_China',\n",
    " 'new_country_France',\n",
    " 'new_country_Germany',\n",
    " 'new_country_India',\n",
    " 'new_country_Italy',\n",
    " 'new_country_Japan',\n",
    " 'new_country_Spain',\n",
    " 'new_country_other',\n",
    " 'BudgetCategory_real',\n",
    " 'BudgetCategory_zero']"
   ]
  },
  {
   "cell_type": "code",
   "execution_count": 177,
   "metadata": {
    "collapsed": false
   },
   "outputs": [],
   "source": [
    "data = df[df['log_GDP'].notnull()][col]"
   ]
  },
  {
   "cell_type": "code",
   "execution_count": 178,
   "metadata": {
    "collapsed": false
   },
   "outputs": [
    {
     "data": {
      "text/html": [
       "<div>\n",
       "<table border=\"1\" class=\"dataframe\">\n",
       "  <thead>\n",
       "    <tr style=\"text-align: right;\">\n",
       "      <th></th>\n",
       "      <th>log_GDP</th>\n",
       "      <th>total_minutes</th>\n",
       "      <th>adventure</th>\n",
       "      <th>Thriller</th>\n",
       "      <th>Animation</th>\n",
       "      <th>Comedy</th>\n",
       "      <th>Crime</th>\n",
       "      <th>Documentary</th>\n",
       "      <th>Drama</th>\n",
       "      <th>Family</th>\n",
       "      <th>...</th>\n",
       "      <th>new_country_China</th>\n",
       "      <th>new_country_France</th>\n",
       "      <th>new_country_Germany</th>\n",
       "      <th>new_country_India</th>\n",
       "      <th>new_country_Italy</th>\n",
       "      <th>new_country_Japan</th>\n",
       "      <th>new_country_Spain</th>\n",
       "      <th>new_country_other</th>\n",
       "      <th>BudgetCategory_real</th>\n",
       "      <th>BudgetCategory_zero</th>\n",
       "    </tr>\n",
       "  </thead>\n",
       "  <tbody>\n",
       "    <tr>\n",
       "      <th>0</th>\n",
       "      <td>18.668157</td>\n",
       "      <td>120</td>\n",
       "      <td>0</td>\n",
       "      <td>0</td>\n",
       "      <td>0</td>\n",
       "      <td>0</td>\n",
       "      <td>0</td>\n",
       "      <td>0</td>\n",
       "      <td>0</td>\n",
       "      <td>0</td>\n",
       "      <td>...</td>\n",
       "      <td>0</td>\n",
       "      <td>0</td>\n",
       "      <td>0</td>\n",
       "      <td>0</td>\n",
       "      <td>0</td>\n",
       "      <td>0</td>\n",
       "      <td>0</td>\n",
       "      <td>1</td>\n",
       "      <td>1</td>\n",
       "      <td>0</td>\n",
       "    </tr>\n",
       "    <tr>\n",
       "      <th>1</th>\n",
       "      <td>17.862893</td>\n",
       "      <td>116</td>\n",
       "      <td>0</td>\n",
       "      <td>0</td>\n",
       "      <td>0</td>\n",
       "      <td>0</td>\n",
       "      <td>0</td>\n",
       "      <td>0</td>\n",
       "      <td>0</td>\n",
       "      <td>0</td>\n",
       "      <td>...</td>\n",
       "      <td>0</td>\n",
       "      <td>0</td>\n",
       "      <td>0</td>\n",
       "      <td>0</td>\n",
       "      <td>0</td>\n",
       "      <td>0</td>\n",
       "      <td>0</td>\n",
       "      <td>1</td>\n",
       "      <td>0</td>\n",
       "      <td>1</td>\n",
       "    </tr>\n",
       "    <tr>\n",
       "      <th>2</th>\n",
       "      <td>16.786302</td>\n",
       "      <td>118</td>\n",
       "      <td>0</td>\n",
       "      <td>0</td>\n",
       "      <td>0</td>\n",
       "      <td>1</td>\n",
       "      <td>0</td>\n",
       "      <td>0</td>\n",
       "      <td>0</td>\n",
       "      <td>0</td>\n",
       "      <td>...</td>\n",
       "      <td>0</td>\n",
       "      <td>0</td>\n",
       "      <td>0</td>\n",
       "      <td>0</td>\n",
       "      <td>1</td>\n",
       "      <td>0</td>\n",
       "      <td>0</td>\n",
       "      <td>0</td>\n",
       "      <td>0</td>\n",
       "      <td>1</td>\n",
       "    </tr>\n",
       "    <tr>\n",
       "      <th>3</th>\n",
       "      <td>17.610263</td>\n",
       "      <td>115</td>\n",
       "      <td>0</td>\n",
       "      <td>0</td>\n",
       "      <td>0</td>\n",
       "      <td>0</td>\n",
       "      <td>0</td>\n",
       "      <td>0</td>\n",
       "      <td>0</td>\n",
       "      <td>0</td>\n",
       "      <td>...</td>\n",
       "      <td>1</td>\n",
       "      <td>0</td>\n",
       "      <td>0</td>\n",
       "      <td>0</td>\n",
       "      <td>0</td>\n",
       "      <td>0</td>\n",
       "      <td>0</td>\n",
       "      <td>0</td>\n",
       "      <td>0</td>\n",
       "      <td>1</td>\n",
       "    </tr>\n",
       "    <tr>\n",
       "      <th>4</th>\n",
       "      <td>17.443435</td>\n",
       "      <td>112</td>\n",
       "      <td>0</td>\n",
       "      <td>0</td>\n",
       "      <td>0</td>\n",
       "      <td>0</td>\n",
       "      <td>0</td>\n",
       "      <td>0</td>\n",
       "      <td>0</td>\n",
       "      <td>0</td>\n",
       "      <td>...</td>\n",
       "      <td>0</td>\n",
       "      <td>0</td>\n",
       "      <td>0</td>\n",
       "      <td>0</td>\n",
       "      <td>0</td>\n",
       "      <td>0</td>\n",
       "      <td>0</td>\n",
       "      <td>1</td>\n",
       "      <td>1</td>\n",
       "      <td>0</td>\n",
       "    </tr>\n",
       "  </tbody>\n",
       "</table>\n",
       "<p>5 rows × 38 columns</p>\n",
       "</div>"
      ],
      "text/plain": [
       "     log_GDP  total_minutes  adventure  Thriller  Animation  Comedy  Crime  \\\n",
       "0  18.668157            120          0         0          0       0      0   \n",
       "1  17.862893            116          0         0          0       0      0   \n",
       "2  16.786302            118          0         0          0       1      0   \n",
       "3  17.610263            115          0         0          0       0      0   \n",
       "4  17.443435            112          0         0          0       0      0   \n",
       "\n",
       "   Documentary  Drama  Family         ...           new_country_China  \\\n",
       "0            0      0       0         ...                           0   \n",
       "1            0      0       0         ...                           0   \n",
       "2            0      0       0         ...                           0   \n",
       "3            0      0       0         ...                           1   \n",
       "4            0      0       0         ...                           0   \n",
       "\n",
       "   new_country_France  new_country_Germany  new_country_India  \\\n",
       "0                   0                    0                  0   \n",
       "1                   0                    0                  0   \n",
       "2                   0                    0                  0   \n",
       "3                   0                    0                  0   \n",
       "4                   0                    0                  0   \n",
       "\n",
       "   new_country_Italy  new_country_Japan  new_country_Spain  new_country_other  \\\n",
       "0                  0                  0                  0                  1   \n",
       "1                  0                  0                  0                  1   \n",
       "2                  1                  0                  0                  0   \n",
       "3                  0                  0                  0                  0   \n",
       "4                  0                  0                  0                  1   \n",
       "\n",
       "   BudgetCategory_real  BudgetCategory_zero  \n",
       "0                    1                    0  \n",
       "1                    0                    1  \n",
       "2                    0                    1  \n",
       "3                    0                    1  \n",
       "4                    1                    0  \n",
       "\n",
       "[5 rows x 38 columns]"
      ]
     },
     "execution_count": 178,
     "metadata": {},
     "output_type": "execute_result"
    }
   ],
   "source": [
    "data.head()"
   ]
  },
  {
   "cell_type": "code",
   "execution_count": 180,
   "metadata": {
    "collapsed": false
   },
   "outputs": [
    {
     "data": {
      "text/plain": [
       "LinearRegression(copy_X=True, fit_intercept=True, n_jobs=1, normalize=False)"
      ]
     },
     "execution_count": 180,
     "metadata": {},
     "output_type": "execute_result"
    }
   ],
   "source": [
    "from sklearn.linear_model import LinearRegression\n",
    "rgr = LinearRegression()\n",
    "rgr.fit(data[feats].values, data['log_GDP'])"
   ]
  },
  {
   "cell_type": "markdown",
   "metadata": {},
   "source": [
    "## Statsmodels"
   ]
  },
  {
   "cell_type": "code",
   "execution_count": 184,
   "metadata": {
    "collapsed": true
   },
   "outputs": [],
   "source": [
    "import statsmodels.api as sm\n",
    "import statsmodels.formula.api as ols"
   ]
  },
  {
   "cell_type": "code",
   "execution_count": 187,
   "metadata": {
    "collapsed": false
   },
   "outputs": [],
   "source": [
    "model = sm.OLS(data[['log_GDP']], data[feats]).fit()"
   ]
  },
  {
   "cell_type": "markdown",
   "metadata": {},
   "source": [
    "original p-values"
   ]
  },
  {
   "cell_type": "code",
   "execution_count": 188,
   "metadata": {
    "collapsed": false,
    "scrolled": false
   },
   "outputs": [
    {
     "data": {
      "text/html": [
       "<table class=\"simpletable\">\n",
       "<caption>OLS Regression Results</caption>\n",
       "<tr>\n",
       "  <th>Dep. Variable:</th>         <td>log_GDP</td>     <th>  R-squared:         </th> <td>   0.361</td>\n",
       "</tr>\n",
       "<tr>\n",
       "  <th>Model:</th>                   <td>OLS</td>       <th>  Adj. R-squared:    </th> <td>   0.344</td>\n",
       "</tr>\n",
       "<tr>\n",
       "  <th>Method:</th>             <td>Least Squares</td>  <th>  F-statistic:       </th> <td>   21.19</td>\n",
       "</tr>\n",
       "<tr>\n",
       "  <th>Date:</th>             <td>Thu, 28 Jan 2016</td> <th>  Prob (F-statistic):</th> <td>1.92e-94</td>\n",
       "</tr>\n",
       "<tr>\n",
       "  <th>Time:</th>                 <td>17:11:17</td>     <th>  Log-Likelihood:    </th> <td> -2549.1</td>\n",
       "</tr>\n",
       "<tr>\n",
       "  <th>No. Observations:</th>      <td>  1234</td>      <th>  AIC:               </th> <td>   5164.</td>\n",
       "</tr>\n",
       "<tr>\n",
       "  <th>Df Residuals:</th>          <td>  1201</td>      <th>  BIC:               </th> <td>   5333.</td>\n",
       "</tr>\n",
       "<tr>\n",
       "  <th>Df Model:</th>              <td>    32</td>      <th>                     </th>     <td> </td>   \n",
       "</tr>\n",
       "<tr>\n",
       "  <th>Covariance Type:</th>      <td>nonrobust</td>    <th>                     </th>     <td> </td>   \n",
       "</tr>\n",
       "</table>\n",
       "<table class=\"simpletable\">\n",
       "<tr>\n",
       "           <td></td>              <th>coef</th>     <th>std err</th>      <th>t</th>      <th>P>|t|</th> <th>[95.0% Conf. Int.]</th> \n",
       "</tr>\n",
       "<tr>\n",
       "  <th>total_minutes</th>       <td>    0.0121</td> <td>    0.002</td> <td>    7.513</td> <td> 0.000</td> <td>    0.009     0.015</td>\n",
       "</tr>\n",
       "<tr>\n",
       "  <th>adventure</th>           <td>   -0.6609</td> <td>    1.142</td> <td>   -0.579</td> <td> 0.563</td> <td>   -2.902     1.580</td>\n",
       "</tr>\n",
       "<tr>\n",
       "  <th>Thriller</th>            <td>    0.3779</td> <td>    0.830</td> <td>    0.455</td> <td> 0.649</td> <td>   -1.251     2.007</td>\n",
       "</tr>\n",
       "<tr>\n",
       "  <th>Animation</th>           <td>   -1.6023</td> <td>    1.285</td> <td>   -1.247</td> <td> 0.213</td> <td>   -4.124     0.919</td>\n",
       "</tr>\n",
       "<tr>\n",
       "  <th>Comedy</th>              <td>   -0.0254</td> <td>    0.700</td> <td>   -0.036</td> <td> 0.971</td> <td>   -1.400     1.349</td>\n",
       "</tr>\n",
       "<tr>\n",
       "  <th>Crime</th>               <td>   -0.3351</td> <td>    2.059</td> <td>   -0.163</td> <td> 0.871</td> <td>   -4.376     3.705</td>\n",
       "</tr>\n",
       "<tr>\n",
       "  <th>Documentary</th>         <td>   -3.5348</td> <td>    1.049</td> <td>   -3.368</td> <td> 0.001</td> <td>   -5.594    -1.476</td>\n",
       "</tr>\n",
       "<tr>\n",
       "  <th>Drama</th>               <td>   -1.9015</td> <td>    0.821</td> <td>   -2.316</td> <td> 0.021</td> <td>   -3.512    -0.291</td>\n",
       "</tr>\n",
       "<tr>\n",
       "  <th>Family</th>              <td>   -5.9479</td> <td>    2.101</td> <td>   -2.831</td> <td> 0.005</td> <td>  -10.071    -1.825</td>\n",
       "</tr>\n",
       "<tr>\n",
       "  <th>Foreign</th>             <td>   -2.3880</td> <td>    0.688</td> <td>   -3.472</td> <td> 0.001</td> <td>   -3.738    -1.039</td>\n",
       "</tr>\n",
       "<tr>\n",
       "  <th>Horror</th>              <td>    0.1022</td> <td>    0.505</td> <td>    0.203</td> <td> 0.840</td> <td>   -0.888     1.092</td>\n",
       "</tr>\n",
       "<tr>\n",
       "  <th>Music</th>               <td>    2.1702</td> <td>    1.528</td> <td>    1.420</td> <td> 0.156</td> <td>   -0.827     5.168</td>\n",
       "</tr>\n",
       "<tr>\n",
       "  <th>Period</th>              <td>    1.2873</td> <td>    1.010</td> <td>    1.275</td> <td> 0.203</td> <td>   -0.694     3.269</td>\n",
       "</tr>\n",
       "<tr>\n",
       "  <th>Romance</th>             <td>    0.4896</td> <td>    0.810</td> <td>    0.605</td> <td> 0.545</td> <td>   -1.099     2.078</td>\n",
       "</tr>\n",
       "<tr>\n",
       "  <th>Sci-Fi</th>              <td>    0.8786</td> <td>    1.546</td> <td>    0.568</td> <td> 0.570</td> <td>   -2.154     3.911</td>\n",
       "</tr>\n",
       "<tr>\n",
       "  <th>Unknown</th>             <td>   -2.6692</td> <td>    0.747</td> <td>   -3.572</td> <td> 0.000</td> <td>   -4.135    -1.203</td>\n",
       "</tr>\n",
       "<tr>\n",
       "  <th>War</th>                 <td>    3.7602</td> <td>    2.043</td> <td>    1.840</td> <td> 0.066</td> <td>   -0.249     7.769</td>\n",
       "</tr>\n",
       "<tr>\n",
       "  <th>Fantasy</th>             <td>-7.808e-16</td> <td> 1.37e-15</td> <td>   -0.568</td> <td> 0.570</td> <td>-3.48e-15  1.91e-15</td>\n",
       "</tr>\n",
       "<tr>\n",
       "  <th>Action</th>              <td>    0.3250</td> <td>    0.256</td> <td>    1.271</td> <td> 0.204</td> <td>   -0.177     0.827</td>\n",
       "</tr>\n",
       "<tr>\n",
       "  <th>MPAA_G</th>              <td>    4.6380</td> <td>    0.812</td> <td>    5.710</td> <td> 0.000</td> <td>    3.044     6.232</td>\n",
       "</tr>\n",
       "<tr>\n",
       "  <th>MPAA_NC-17</th>          <td>    2.3665</td> <td>    0.749</td> <td>    3.158</td> <td> 0.002</td> <td>    0.896     3.837</td>\n",
       "</tr>\n",
       "<tr>\n",
       "  <th>MPAA_None</th>           <td> 1.613e-15</td> <td> 5.61e-16</td> <td>    2.872</td> <td> 0.004</td> <td> 5.11e-16  2.71e-15</td>\n",
       "</tr>\n",
       "<tr>\n",
       "  <th>MPAA_Not Yet Rated</th>  <td>    0.0247</td> <td>    1.263</td> <td>    0.020</td> <td> 0.984</td> <td>   -2.454     2.503</td>\n",
       "</tr>\n",
       "<tr>\n",
       "  <th>MPAA_PG</th>             <td>    3.8111</td> <td>    0.353</td> <td>   10.800</td> <td> 0.000</td> <td>    3.119     4.503</td>\n",
       "</tr>\n",
       "<tr>\n",
       "  <th>MPAA_PG-13</th>          <td>    3.7278</td> <td>    0.308</td> <td>   12.093</td> <td> 0.000</td> <td>    3.123     4.333</td>\n",
       "</tr>\n",
       "<tr>\n",
       "  <th>MPAA_R</th>              <td>    3.2437</td> <td>    0.277</td> <td>   11.721</td> <td> 0.000</td> <td>    2.701     3.787</td>\n",
       "</tr>\n",
       "<tr>\n",
       "  <th>MPAA_Unrated</th>        <td>    1.5487</td> <td>    0.273</td> <td>    5.673</td> <td> 0.000</td> <td>    1.013     2.084</td>\n",
       "</tr>\n",
       "<tr>\n",
       "  <th>new_country_China</th>   <td>    3.1760</td> <td>    0.429</td> <td>    7.400</td> <td> 0.000</td> <td>    2.334     4.018</td>\n",
       "</tr>\n",
       "<tr>\n",
       "  <th>new_country_France</th>  <td>    2.4954</td> <td>    0.240</td> <td>   10.382</td> <td> 0.000</td> <td>    2.024     2.967</td>\n",
       "</tr>\n",
       "<tr>\n",
       "  <th>new_country_Germany</th> <td>    2.2189</td> <td>    0.425</td> <td>    5.217</td> <td> 0.000</td> <td>    1.385     3.053</td>\n",
       "</tr>\n",
       "<tr>\n",
       "  <th>new_country_India</th>   <td>    2.6328</td> <td>    0.253</td> <td>   10.395</td> <td> 0.000</td> <td>    2.136     3.130</td>\n",
       "</tr>\n",
       "<tr>\n",
       "  <th>new_country_Italy</th>   <td>    2.5354</td> <td>    0.410</td> <td>    6.189</td> <td> 0.000</td> <td>    1.732     3.339</td>\n",
       "</tr>\n",
       "<tr>\n",
       "  <th>new_country_Japan</th>   <td>    1.9388</td> <td>    0.389</td> <td>    4.989</td> <td> 0.000</td> <td>    1.176     2.701</td>\n",
       "</tr>\n",
       "<tr>\n",
       "  <th>new_country_Spain</th>   <td>    2.5750</td> <td>    0.498</td> <td>    5.172</td> <td> 0.000</td> <td>    1.598     3.552</td>\n",
       "</tr>\n",
       "<tr>\n",
       "  <th>new_country_other</th>   <td>    1.7882</td> <td>    0.174</td> <td>   10.292</td> <td> 0.000</td> <td>    1.447     2.129</td>\n",
       "</tr>\n",
       "<tr>\n",
       "  <th>BudgetCategory_real</th> <td>   10.5044</td> <td>    0.552</td> <td>   19.021</td> <td> 0.000</td> <td>    9.421    11.588</td>\n",
       "</tr>\n",
       "<tr>\n",
       "  <th>BudgetCategory_zero</th> <td>    8.8562</td> <td>    0.495</td> <td>   17.883</td> <td> 0.000</td> <td>    7.885     9.828</td>\n",
       "</tr>\n",
       "</table>\n",
       "<table class=\"simpletable\">\n",
       "<tr>\n",
       "  <th>Omnibus:</th>       <td>22.839</td> <th>  Durbin-Watson:     </th> <td>   0.723</td>\n",
       "</tr>\n",
       "<tr>\n",
       "  <th>Prob(Omnibus):</th> <td> 0.000</td> <th>  Jarque-Bera (JB):  </th> <td>  23.652</td>\n",
       "</tr>\n",
       "<tr>\n",
       "  <th>Skew:</th>          <td>-0.329</td> <th>  Prob(JB):          </th> <td>7.31e-06</td>\n",
       "</tr>\n",
       "<tr>\n",
       "  <th>Kurtosis:</th>      <td> 2.837</td> <th>  Cond. No.          </th> <td>9.01e+15</td>\n",
       "</tr>\n",
       "</table>"
      ],
      "text/plain": [
       "<class 'statsmodels.iolib.summary.Summary'>\n",
       "\"\"\"\n",
       "                            OLS Regression Results                            \n",
       "==============================================================================\n",
       "Dep. Variable:                log_GDP   R-squared:                       0.361\n",
       "Model:                            OLS   Adj. R-squared:                  0.344\n",
       "Method:                 Least Squares   F-statistic:                     21.19\n",
       "Date:                Thu, 28 Jan 2016   Prob (F-statistic):           1.92e-94\n",
       "Time:                        17:11:17   Log-Likelihood:                -2549.1\n",
       "No. Observations:                1234   AIC:                             5164.\n",
       "Df Residuals:                    1201   BIC:                             5333.\n",
       "Df Model:                          32                                         \n",
       "Covariance Type:            nonrobust                                         \n",
       "=======================================================================================\n",
       "                          coef    std err          t      P>|t|      [95.0% Conf. Int.]\n",
       "---------------------------------------------------------------------------------------\n",
       "total_minutes           0.0121      0.002      7.513      0.000         0.009     0.015\n",
       "adventure              -0.6609      1.142     -0.579      0.563        -2.902     1.580\n",
       "Thriller                0.3779      0.830      0.455      0.649        -1.251     2.007\n",
       "Animation              -1.6023      1.285     -1.247      0.213        -4.124     0.919\n",
       "Comedy                 -0.0254      0.700     -0.036      0.971        -1.400     1.349\n",
       "Crime                  -0.3351      2.059     -0.163      0.871        -4.376     3.705\n",
       "Documentary            -3.5348      1.049     -3.368      0.001        -5.594    -1.476\n",
       "Drama                  -1.9015      0.821     -2.316      0.021        -3.512    -0.291\n",
       "Family                 -5.9479      2.101     -2.831      0.005       -10.071    -1.825\n",
       "Foreign                -2.3880      0.688     -3.472      0.001        -3.738    -1.039\n",
       "Horror                  0.1022      0.505      0.203      0.840        -0.888     1.092\n",
       "Music                   2.1702      1.528      1.420      0.156        -0.827     5.168\n",
       "Period                  1.2873      1.010      1.275      0.203        -0.694     3.269\n",
       "Romance                 0.4896      0.810      0.605      0.545        -1.099     2.078\n",
       "Sci-Fi                  0.8786      1.546      0.568      0.570        -2.154     3.911\n",
       "Unknown                -2.6692      0.747     -3.572      0.000        -4.135    -1.203\n",
       "War                     3.7602      2.043      1.840      0.066        -0.249     7.769\n",
       "Fantasy             -7.808e-16   1.37e-15     -0.568      0.570     -3.48e-15  1.91e-15\n",
       "Action                  0.3250      0.256      1.271      0.204        -0.177     0.827\n",
       "MPAA_G                  4.6380      0.812      5.710      0.000         3.044     6.232\n",
       "MPAA_NC-17              2.3665      0.749      3.158      0.002         0.896     3.837\n",
       "MPAA_None            1.613e-15   5.61e-16      2.872      0.004      5.11e-16  2.71e-15\n",
       "MPAA_Not Yet Rated      0.0247      1.263      0.020      0.984        -2.454     2.503\n",
       "MPAA_PG                 3.8111      0.353     10.800      0.000         3.119     4.503\n",
       "MPAA_PG-13              3.7278      0.308     12.093      0.000         3.123     4.333\n",
       "MPAA_R                  3.2437      0.277     11.721      0.000         2.701     3.787\n",
       "MPAA_Unrated            1.5487      0.273      5.673      0.000         1.013     2.084\n",
       "new_country_China       3.1760      0.429      7.400      0.000         2.334     4.018\n",
       "new_country_France      2.4954      0.240     10.382      0.000         2.024     2.967\n",
       "new_country_Germany     2.2189      0.425      5.217      0.000         1.385     3.053\n",
       "new_country_India       2.6328      0.253     10.395      0.000         2.136     3.130\n",
       "new_country_Italy       2.5354      0.410      6.189      0.000         1.732     3.339\n",
       "new_country_Japan       1.9388      0.389      4.989      0.000         1.176     2.701\n",
       "new_country_Spain       2.5750      0.498      5.172      0.000         1.598     3.552\n",
       "new_country_other       1.7882      0.174     10.292      0.000         1.447     2.129\n",
       "BudgetCategory_real    10.5044      0.552     19.021      0.000         9.421    11.588\n",
       "BudgetCategory_zero     8.8562      0.495     17.883      0.000         7.885     9.828\n",
       "==============================================================================\n",
       "Omnibus:                       22.839   Durbin-Watson:                   0.723\n",
       "Prob(Omnibus):                  0.000   Jarque-Bera (JB):               23.652\n",
       "Skew:                          -0.329   Prob(JB):                     7.31e-06\n",
       "Kurtosis:                       2.837   Cond. No.                     9.01e+15\n",
       "==============================================================================\n",
       "\n",
       "Warnings:\n",
       "[1] Standard Errors assume that the covariance matrix of the errors is correctly specified.\n",
       "[2] The smallest eigenvalue is 2.01e-25. This might indicate that there are\n",
       "strong multicollinearity problems or that the design matrix is singular.\n",
       "\"\"\""
      ]
     },
     "execution_count": 188,
     "metadata": {},
     "output_type": "execute_result"
    }
   ],
   "source": [
    "model.summary()"
   ]
  },
  {
   "cell_type": "code",
   "execution_count": 260,
   "metadata": {
    "collapsed": false
   },
   "outputs": [],
   "source": [
    "Y=data.iloc[:,:1]\n",
    "#X=data.iloc[:,1:]\n",
    "\n",
    "\n",
    "X=data[['total_minutes', 'Documentary','Action','Family','War', 'MPAA_R','new_country_China','new_country_France', 'new_country_Germany','new_country_India','new_country_Italy','new_country_Japan','new_country_Spain']]      "
   ]
  },
  {
   "cell_type": "markdown",
   "metadata": {},
   "source": [
    "## Model 2- second summary"
   ]
  },
  {
   "cell_type": "code",
   "execution_count": 261,
   "metadata": {
    "collapsed": false,
    "scrolled": true
   },
   "outputs": [
    {
     "data": {
      "text/html": [
       "<table class=\"simpletable\">\n",
       "<caption>OLS Regression Results</caption>\n",
       "<tr>\n",
       "  <th>Dep. Variable:</th>         <td>log_GDP</td>     <th>  R-squared:         </th> <td>   0.911</td>\n",
       "</tr>\n",
       "<tr>\n",
       "  <th>Model:</th>                   <td>OLS</td>       <th>  Adj. R-squared:    </th> <td>   0.910</td>\n",
       "</tr>\n",
       "<tr>\n",
       "  <th>Method:</th>             <td>Least Squares</td>  <th>  F-statistic:       </th> <td>   956.5</td>\n",
       "</tr>\n",
       "<tr>\n",
       "  <th>Date:</th>             <td>Thu, 28 Jan 2016</td> <th>  Prob (F-statistic):</th>  <td>  0.00</td> \n",
       "</tr>\n",
       "<tr>\n",
       "  <th>Time:</th>                 <td>22:11:13</td>     <th>  Log-Likelihood:    </th> <td> -3369.1</td>\n",
       "</tr>\n",
       "<tr>\n",
       "  <th>No. Observations:</th>      <td>  1234</td>      <th>  AIC:               </th> <td>   6764.</td>\n",
       "</tr>\n",
       "<tr>\n",
       "  <th>Df Residuals:</th>          <td>  1221</td>      <th>  BIC:               </th> <td>   6831.</td>\n",
       "</tr>\n",
       "<tr>\n",
       "  <th>Df Model:</th>              <td>    13</td>      <th>                     </th>     <td> </td>   \n",
       "</tr>\n",
       "<tr>\n",
       "  <th>Covariance Type:</th>      <td>nonrobust</td>    <th>                     </th>     <td> </td>   \n",
       "</tr>\n",
       "</table>\n",
       "<table class=\"simpletable\">\n",
       "<tr>\n",
       "           <td></td>              <th>coef</th>     <th>std err</th>      <th>t</th>      <th>P>|t|</th> <th>[95.0% Conf. Int.]</th> \n",
       "</tr>\n",
       "<tr>\n",
       "  <th>total_minutes</th>       <td>    0.0930</td> <td>    0.001</td> <td>   81.276</td> <td> 0.000</td> <td>    0.091     0.095</td>\n",
       "</tr>\n",
       "<tr>\n",
       "  <th>Documentary</th>         <td>   -0.2076</td> <td>    1.528</td> <td>   -0.136</td> <td> 0.892</td> <td>   -3.205     2.790</td>\n",
       "</tr>\n",
       "<tr>\n",
       "  <th>Action</th>              <td>    0.8770</td> <td>    0.473</td> <td>    1.856</td> <td> 0.064</td> <td>   -0.050     1.804</td>\n",
       "</tr>\n",
       "<tr>\n",
       "  <th>Family</th>              <td>   -2.4134</td> <td>    3.828</td> <td>   -0.630</td> <td> 0.529</td> <td>   -9.924     5.097</td>\n",
       "</tr>\n",
       "<tr>\n",
       "  <th>War</th>                 <td>    2.7372</td> <td>    3.738</td> <td>    0.732</td> <td> 0.464</td> <td>   -4.597    10.071</td>\n",
       "</tr>\n",
       "<tr>\n",
       "  <th>MPAA_R</th>              <td>    2.6660</td> <td>    0.249</td> <td>   10.723</td> <td> 0.000</td> <td>    2.178     3.154</td>\n",
       "</tr>\n",
       "<tr>\n",
       "  <th>new_country_China</th>   <td>    2.6928</td> <td>    0.865</td> <td>    3.115</td> <td> 0.002</td> <td>    0.997     4.389</td>\n",
       "</tr>\n",
       "<tr>\n",
       "  <th>new_country_France</th>  <td>    2.1288</td> <td>    0.384</td> <td>    5.547</td> <td> 0.000</td> <td>    1.376     2.882</td>\n",
       "</tr>\n",
       "<tr>\n",
       "  <th>new_country_Germany</th> <td>    1.9167</td> <td>    0.842</td> <td>    2.275</td> <td> 0.023</td> <td>    0.264     3.569</td>\n",
       "</tr>\n",
       "<tr>\n",
       "  <th>new_country_India</th>   <td>    1.5440</td> <td>    0.431</td> <td>    3.578</td> <td> 0.000</td> <td>    0.697     2.390</td>\n",
       "</tr>\n",
       "<tr>\n",
       "  <th>new_country_Italy</th>   <td>    3.2745</td> <td>    0.821</td> <td>    3.989</td> <td> 0.000</td> <td>    1.664     4.885</td>\n",
       "</tr>\n",
       "<tr>\n",
       "  <th>new_country_Japan</th>   <td>   -0.0426</td> <td>    0.758</td> <td>   -0.056</td> <td> 0.955</td> <td>   -1.530     1.445</td>\n",
       "</tr>\n",
       "<tr>\n",
       "  <th>new_country_Spain</th>   <td>    1.5775</td> <td>    1.006</td> <td>    1.568</td> <td> 0.117</td> <td>   -0.397     3.552</td>\n",
       "</tr>\n",
       "</table>\n",
       "<table class=\"simpletable\">\n",
       "<tr>\n",
       "  <th>Omnibus:</th>       <td>140.145</td> <th>  Durbin-Watson:     </th> <td>   1.722</td> \n",
       "</tr>\n",
       "<tr>\n",
       "  <th>Prob(Omnibus):</th> <td> 0.000</td>  <th>  Jarque-Bera (JB):  </th> <td>1143.824</td> \n",
       "</tr>\n",
       "<tr>\n",
       "  <th>Skew:</th>          <td> 0.133</td>  <th>  Prob(JB):          </th> <td>4.19e-249</td>\n",
       "</tr>\n",
       "<tr>\n",
       "  <th>Kurtosis:</th>      <td> 7.709</td>  <th>  Cond. No.          </th> <td>4.15e+03</td> \n",
       "</tr>\n",
       "</table>"
      ],
      "text/plain": [
       "<class 'statsmodels.iolib.summary.Summary'>\n",
       "\"\"\"\n",
       "                            OLS Regression Results                            \n",
       "==============================================================================\n",
       "Dep. Variable:                log_GDP   R-squared:                       0.911\n",
       "Model:                            OLS   Adj. R-squared:                  0.910\n",
       "Method:                 Least Squares   F-statistic:                     956.5\n",
       "Date:                Thu, 28 Jan 2016   Prob (F-statistic):               0.00\n",
       "Time:                        22:11:13   Log-Likelihood:                -3369.1\n",
       "No. Observations:                1234   AIC:                             6764.\n",
       "Df Residuals:                    1221   BIC:                             6831.\n",
       "Df Model:                          13                                         \n",
       "Covariance Type:            nonrobust                                         \n",
       "=======================================================================================\n",
       "                          coef    std err          t      P>|t|      [95.0% Conf. Int.]\n",
       "---------------------------------------------------------------------------------------\n",
       "total_minutes           0.0930      0.001     81.276      0.000         0.091     0.095\n",
       "Documentary            -0.2076      1.528     -0.136      0.892        -3.205     2.790\n",
       "Action                  0.8770      0.473      1.856      0.064        -0.050     1.804\n",
       "Family                 -2.4134      3.828     -0.630      0.529        -9.924     5.097\n",
       "War                     2.7372      3.738      0.732      0.464        -4.597    10.071\n",
       "MPAA_R                  2.6660      0.249     10.723      0.000         2.178     3.154\n",
       "new_country_China       2.6928      0.865      3.115      0.002         0.997     4.389\n",
       "new_country_France      2.1288      0.384      5.547      0.000         1.376     2.882\n",
       "new_country_Germany     1.9167      0.842      2.275      0.023         0.264     3.569\n",
       "new_country_India       1.5440      0.431      3.578      0.000         0.697     2.390\n",
       "new_country_Italy       3.2745      0.821      3.989      0.000         1.664     4.885\n",
       "new_country_Japan      -0.0426      0.758     -0.056      0.955        -1.530     1.445\n",
       "new_country_Spain       1.5775      1.006      1.568      0.117        -0.397     3.552\n",
       "==============================================================================\n",
       "Omnibus:                      140.145   Durbin-Watson:                   1.722\n",
       "Prob(Omnibus):                  0.000   Jarque-Bera (JB):             1143.824\n",
       "Skew:                           0.133   Prob(JB):                    4.19e-249\n",
       "Kurtosis:                       7.709   Cond. No.                     4.15e+03\n",
       "==============================================================================\n",
       "\n",
       "Warnings:\n",
       "[1] Standard Errors assume that the covariance matrix of the errors is correctly specified.\n",
       "[2] The condition number is large, 4.15e+03. This might indicate that there are\n",
       "strong multicollinearity or other numerical problems.\n",
       "\"\"\""
      ]
     },
     "execution_count": 261,
     "metadata": {},
     "output_type": "execute_result"
    }
   ],
   "source": [
    "model2 = sm.OLS(Y,X).fit()\n",
    "model2.summary()"
   ]
  },
  {
   "cell_type": "code",
   "execution_count": 274,
   "metadata": {
    "collapsed": false
   },
   "outputs": [
    {
     "data": {
      "text/plain": [
       "<matplotlib.text.Text at 0x11dbac950>"
      ]
     },
     "execution_count": 274,
     "metadata": {},
     "output_type": "execute_result"
    },
    {
     "data": {
      "image/png": "[encoded data removed]",
      "text/plain": [
       "<matplotlib.figure.Figure at 0x11dbe9fd0>"
      ]
     },
     "metadata": {},
     "output_type": "display_data"
    }
   ],
   "source": [
    "import matplotlib.pyplot as plt\n",
    "fig = plt.figure(figsize=(18,8))\n",
    "plt.scatter(X.total_minutes, Y, alpha=0.5)\n",
    "plt.plot(X.total_minutes, model2.predict(X), 'rs', alpha=.5)\n",
    "plt.xlabel('total_minutes')\n",
    "plt.ylabel('Domestic Gross')"
   ]
  },
  {
   "cell_type": "code",
   "execution_count": 267,
   "metadata": {
    "collapsed": false
   },
   "outputs": [
    {
     "data": {
      "text/plain": [
       "<matplotlib.text.Text at 0x11b485d10>"
      ]
     },
     "execution_count": 267,
     "metadata": {},
     "output_type": "execute_result"
    },
    {
     "data": {
      "image/png": "[encoded data removed]",
      "text/plain": [
       "<matplotlib.figure.Figure at 0x11b207650>"
      ]
     },
     "metadata": {},
     "output_type": "display_data"
    }
   ],
   "source": [
    "import matplotlib.pyplot as plt\n",
    "fig = plt.figure(figsize=(18,8))\n",
    "plt.scatter(X.total_minutes, Y, alpha=0.5)\n",
    "plt.plot(X.total_minutes, model2.predict(X), 'rs', alpha=.5)\n",
    "plt.xlabel('Runtime')\n",
    "plt.ylabel('Domestic Gross')\n"
   ]
  },
  {
   "cell_type": "code",
   "execution_count": 246,
   "metadata": {
    "collapsed": false
   },
   "outputs": [
    {
     "data": {
      "text/plain": [
       "[<matplotlib.lines.Line2D at 0x11a036810>]"
      ]
     },
     "execution_count": 246,
     "metadata": {},
     "output_type": "execute_result"
    },
    {
     "data": {
      "image/png": "[encoded data removed]",
      "text/plain": [
       "<matplotlib.figure.Figure at 0x119b929d0>"
      ]
     },
     "metadata": {},
     "output_type": "display_data"
    }
   ],
   "source": []
  },
  {
   "cell_type": "code",
   "execution_count": 181,
   "metadata": {
    "collapsed": false
   },
   "outputs": [
    {
     "data": {
      "text/plain": [
       "array([ 15.41489895,  13.3930814 ,  16.52723828, ...,  11.40830147,\n",
       "        10.89818587,  11.12895245])"
      ]
     },
     "execution_count": 181,
     "metadata": {},
     "output_type": "execute_result"
    }
   ],
   "source": [
    "rgr.predict(data[feats].values)"
   ]
  },
  {
   "cell_type": "code",
   "execution_count": 182,
   "metadata": {
    "collapsed": false
   },
   "outputs": [
    {
     "data": {
      "text/plain": [
       "array([  1.21456096e-02,  -6.60923127e-01,   3.77930357e-01,\n",
       "        -1.60230972e+00,  -2.53588876e-02,  -3.35124814e-01,\n",
       "        -3.53476571e+00,  -1.90145672e+00,  -5.94792349e+00,\n",
       "        -2.38801957e+00,   1.02208824e-01,   2.17016494e+00,\n",
       "         1.28733585e+00,   4.89631559e-01,   8.78587908e-01,\n",
       "        -2.66922950e+00,   3.76020675e+00,   5.98538214e-16,\n",
       "         3.25015844e-01,   1.87219033e+00,  -3.99326963e-01,\n",
       "         7.55444873e-16,  -2.74111595e+00,   1.04535727e+00,\n",
       "         9.62042768e-01,   4.77919460e-01,  -1.21706691e+00,\n",
       "         7.55972804e-01,   7.53311262e-02,  -2.01167677e-01,\n",
       "         2.12730243e-01,   1.15350768e-01,  -4.81278611e-01,\n",
       "         1.54915555e-01,  -6.31854208e-01,   8.24109635e-01,\n",
       "        -8.24109635e-01])"
      ]
     },
     "execution_count": 182,
     "metadata": {},
     "output_type": "execute_result"
    }
   ],
   "source": [
    "#coefficients show impact hvg on y\n",
    "rgr.coef_"
   ]
  },
  {
   "cell_type": "markdown",
   "metadata": {},
   "source": [
    "# End modelling"
   ]
  }
 ],
 "metadata": {
  "kernelspec": {
   "display_name": "Python 2",
   "language": "python",
   "name": "python2"
  },
  "language_info": {
   "codemirror_mode": {
    "name": "ipython",
    "version": 2
   },
   "file_extension": ".py",
   "mimetype": "text/x-python",
   "name": "python",
   "nbconvert_exporter": "python",
   "pygments_lexer": "ipython2",
   "version": "2.7.10"
  }
 },
 "nbformat": 4,
 "nbformat_minor": 0
}
